{
  "nbformat": 4,
  "nbformat_minor": 0,
  "metadata": {
    "kernelspec": {
      "display_name": "Python 3",
      "language": "python",
      "name": "python3"
    },
    "language_info": {
      "codemirror_mode": {
        "name": "ipython",
        "version": 3
      },
      "file_extension": ".py",
      "mimetype": "text/x-python",
      "name": "python",
      "nbconvert_exporter": "python",
      "pygments_lexer": "ipython3",
      "version": "3.7.6"
    },
    "papermill": {
      "duration": 82.475579,
      "end_time": "2020-09-01T14:09:03.579915",
      "environment_variables": {},
      "exception": null,
      "input_path": "__notebook__.ipynb",
      "output_path": "__notebook__.ipynb",
      "parameters": {},
      "start_time": "2020-09-01T14:07:41.104336",
      "version": "2.1.0"
    },
    "colab": {
      "name": "forsub_compe.ipynb",
      "provenance": [],
      "collapsed_sections": [
        "CTNSxivV23HU",
        "FuArU-Mv_Qyv",
        "_GboU7us_Qz5"
      ],
      "machine_shape": "hm"
    }
  },
  "cells": [
    {
      "cell_type": "markdown",
      "metadata": {
        "id": "Av7uo40fIDhu"
      },
      "source": [
        "###元ノートブック [Titanic WCG + KNNs Ensemble [0.82775] (top 1%)](https://www.kaggle.com/mviola/titanic-wcg-knns-ensemble-0-82775-top-1)\n",
        "\n",
        "<br>\n",
        "\n",
        "\n",
        "**[Titanic WCG + KNNs Ensemble [0.82775] (top 1%)](https://www.kaggle.com/mviola/titanic-wcg-knns-ensemble-0-82775-top-1)\n",
        "についてザックリ**\n",
        "\n",
        "データを [WCG](https://www.kaggle.com/cdeotte/titantic-mega-model-0-84210)(特徴量から母親と子供をルールベースでグループごとに分離し、そのグループの中で平均生存率を計算する。)、非WCGの男性と非WCGの女性の3つのグループに分ける。WCGはルールベースに基づき、非WCGのグループ2つは個別にKNNのアンサンブルで予測するというもの。このノートブックに日本語でコードの説明を乗っけていますが、正直なところほとんど同じなので、参考ノートブックをみるのが絶対良いと思います。\n",
        "\n",
        "\n",
        "\n",
        "**変更点**\n",
        "\n",
        "一応、非WCGの男性と女性に対しては学習器の変更を試みたのですが、男性の方は今回のデータセットに対してだとlgbが効かなく、xgbやlrがknnと同様に効くことが、再現率、適合率、正答率やLBのスコアなどからわかりました。ただ、今回の場合はknnのままの方がよさそうな場面が多かったです。非WCG女性の方に関しては調べる時間がなかった; ;　というか、元ノートブックのクオリティありきなので、僕自身が何かを構築したわけでは決してないです。\n",
        "\n",
        "**追記**\n",
        "\n",
        "結局今回のコンペではknnだけのアンサンブルがもっとも再現率、適合率、正答率やLBのスコアが最も良かったので、最終的にknnしか使ってないです。\n",
        "\n",
        "**余談**\n",
        "\n",
        "公式のKaggleの方では、参考ノートブックのTitanic WCG + KNNs Ensemble [0.82775](top 1%)ではLBで0.83を超えることが目的とされています。一応、今回のコンペと同様の改善？のアプローチで公式の方でちゃんと0.83を超えることが出来ました(0.83014)。これに関してはこのノートブックの作者さんがわざとknnだけしか使っていなかったり、非WCGのグループのさらなる細分化をしていなかったりと、超簡単な改良方法で所々改善できる余地を残してる気もします。僕みたいな初学者の身からするととてもありがたいです。(今回のこれを改善というのはおこがましい気しかしないですけど)\n",
        "\n",
        "\n"
      ]
    },
    {
      "cell_type": "markdown",
      "metadata": {
        "id": "Ysh2PH682F-4"
      },
      "source": [
        "#CSVの用意"
      ]
    },
    {
      "cell_type": "code",
      "metadata": {
        "id": "bwVmsW0u_YDw"
      },
      "source": [
        "!pip install -U -q PyDrive\n",
        "from pydrive.auth import GoogleAuth\n",
        "from pydrive.drive import GoogleDrive\n",
        "from google.colab import auth\n",
        "from oauth2client.client import GoogleCredentials\n",
        "auth.authenticate_user()\n",
        "gauth = GoogleAuth()\n",
        "gauth.credentials = GoogleCredentials.get_application_default()\n",
        "drive = GoogleDrive(gauth)"
      ],
      "execution_count": null,
      "outputs": []
    },
    {
      "cell_type": "code",
      "metadata": {
        "id": "3hjJSL4j_Zh6"
      },
      "source": [
        "id_dic={\n",
        "    'test.csv':'',\n",
        "    'train.csv':'', \n",
        "    'gender_submission.csv':''\n",
        "    }\n",
        "\n",
        "for k,v in id_dic.items():\n",
        "    downloaded = drive.CreateFile({'id': v})\n",
        "    downloaded.GetContentFile(f'{k}')"
      ],
      "execution_count": null,
      "outputs": []
    },
    {
      "cell_type": "markdown",
      "metadata": {
        "id": "CTNSxivV23HU"
      },
      "source": [
        "#ライブラリのimportとデータの確認"
      ]
    },
    {
      "cell_type": "code",
      "metadata": {
        "_cell_guid": "b1076dfc-b9ad-4769-8c92-a6c4dae69d19",
        "_kg_hide-input": true,
        "_uuid": "8f2839f25d086af736a60e9eeb907d3b93b6e0e5",
        "execution": {
          "iopub.execute_input": "2020-09-01T14:07:45.686345Z",
          "iopub.status.busy": "2020-09-01T14:07:45.685594Z",
          "iopub.status.idle": "2020-09-01T14:07:47.016178Z",
          "shell.execute_reply": "2020-09-01T14:07:47.015054Z"
        },
        "papermill": {
          "duration": 1.365026,
          "end_time": "2020-09-01T14:07:47.016344",
          "exception": false,
          "start_time": "2020-09-01T14:07:45.651318",
          "status": "completed"
        },
        "tags": [],
        "id": "9ngDlR-O_Qyo"
      },
      "source": [
        "import numpy as np \n",
        "import pandas as pd \n",
        "import matplotlib.pyplot as plt\n",
        "%matplotlib inline\n",
        "import seaborn as sns\n",
        "sns.set_style('dark')\n",
        "sns.set_palette('Set2')\n",
        "from sklearn.impute import SimpleImputer\n",
        "from sklearn.preprocessing import StandardScaler, OneHotEncoder\n",
        "from sklearn.compose import ColumnTransformer\n",
        "from sklearn.pipeline import Pipeline\n",
        "from sklearn.model_selection import cross_val_score\n",
        "from sklearn.neighbors import KNeighborsClassifier\n",
        "from sklearn.ensemble import VotingClassifier"
      ],
      "execution_count": null,
      "outputs": []
    },
    {
      "cell_type": "markdown",
      "metadata": {
        "papermill": {
          "duration": 0.021886,
          "end_time": "2020-09-01T14:07:47.060465",
          "exception": false,
          "start_time": "2020-09-01T14:07:47.038579",
          "status": "completed"
        },
        "tags": [],
        "id": "S44xOq-4_Qys"
      },
      "source": [
        "データの読み込み"
      ]
    },
    {
      "cell_type": "code",
      "metadata": {
        "_cell_guid": "79c7e3d0-c299-4dcb-8224-4455121ee9b0",
        "_uuid": "d629ff2d2480ee46fbb7e2d37f6b5fab8052498a",
        "execution": {
          "iopub.execute_input": "2020-09-01T14:07:47.122141Z",
          "iopub.status.busy": "2020-09-01T14:07:47.121497Z",
          "iopub.status.idle": "2020-09-01T14:07:47.156952Z",
          "shell.execute_reply": "2020-09-01T14:07:47.156292Z"
        },
        "papermill": {
          "duration": 0.074005,
          "end_time": "2020-09-01T14:07:47.157061",
          "exception": false,
          "start_time": "2020-09-01T14:07:47.083056",
          "status": "completed"
        },
        "tags": [],
        "id": "KW8-pC5t_Qyt"
      },
      "source": [
        "train_data = pd.read_csv('train.csv')\n",
        "test_data = pd.read_csv('test.csv')\n",
        "data = pd.concat([train_data, test_data]).reset_index().drop(['index'], axis=1)"
      ],
      "execution_count": null,
      "outputs": []
    },
    {
      "cell_type": "code",
      "metadata": {
        "id": "IwPC2VSr9UMo"
      },
      "source": [
        "def kesson_table(df):\n",
        "    null_val = df.isnull().sum()\n",
        "    percent = 100 * null_val/len(df)\n",
        "    kesson_table = pd.concat([null_val, percent], axis = 1)\n",
        "    kesson_table_ren_columns = kesson_table.rename(\n",
        "    columns = {0: \"欠損数\", 1: \"%\"})\n",
        "    \n",
        "    return kesson_table_ren_columns"
      ],
      "execution_count": null,
      "outputs": []
    },
    {
      "cell_type": "markdown",
      "metadata": {
        "id": "IcztooFUIl01"
      },
      "source": [
        "普通の欠損: Pershed, Age, Cabin\n",
        "\n",
        "何かありそうな欠損: Fare\n",
        "\n",
        "Fareに関しては1個だし、そのままNullで文字列にして扱うだけでもよさそう。"
      ]
    },
    {
      "cell_type": "code",
      "metadata": {
        "id": "UlWoDBYiGN2-",
        "outputId": "035ef3e2-9792-40fe-cb64-5188ee39c800",
        "colab": {
          "base_uri": "https://localhost:8080/",
          "height": 417
        }
      },
      "source": [
        "kesson_table(data)"
      ],
      "execution_count": null,
      "outputs": [
        {
          "output_type": "execute_result",
          "data": {
            "text/html": [
              "<div>\n",
              "<style scoped>\n",
              "    .dataframe tbody tr th:only-of-type {\n",
              "        vertical-align: middle;\n",
              "    }\n",
              "\n",
              "    .dataframe tbody tr th {\n",
              "        vertical-align: top;\n",
              "    }\n",
              "\n",
              "    .dataframe thead th {\n",
              "        text-align: right;\n",
              "    }\n",
              "</style>\n",
              "<table border=\"1\" class=\"dataframe\">\n",
              "  <thead>\n",
              "    <tr style=\"text-align: right;\">\n",
              "      <th></th>\n",
              "      <th>欠損数</th>\n",
              "      <th>%</th>\n",
              "    </tr>\n",
              "  </thead>\n",
              "  <tbody>\n",
              "    <tr>\n",
              "      <th>PassengerId</th>\n",
              "      <td>0</td>\n",
              "      <td>0.000000</td>\n",
              "    </tr>\n",
              "    <tr>\n",
              "      <th>Perished</th>\n",
              "      <td>418</td>\n",
              "      <td>31.932773</td>\n",
              "    </tr>\n",
              "    <tr>\n",
              "      <th>Pclass</th>\n",
              "      <td>0</td>\n",
              "      <td>0.000000</td>\n",
              "    </tr>\n",
              "    <tr>\n",
              "      <th>Name</th>\n",
              "      <td>0</td>\n",
              "      <td>0.000000</td>\n",
              "    </tr>\n",
              "    <tr>\n",
              "      <th>Sex</th>\n",
              "      <td>0</td>\n",
              "      <td>0.000000</td>\n",
              "    </tr>\n",
              "    <tr>\n",
              "      <th>Age</th>\n",
              "      <td>263</td>\n",
              "      <td>20.091673</td>\n",
              "    </tr>\n",
              "    <tr>\n",
              "      <th>SibSp</th>\n",
              "      <td>0</td>\n",
              "      <td>0.000000</td>\n",
              "    </tr>\n",
              "    <tr>\n",
              "      <th>Parch</th>\n",
              "      <td>0</td>\n",
              "      <td>0.000000</td>\n",
              "    </tr>\n",
              "    <tr>\n",
              "      <th>Ticket</th>\n",
              "      <td>0</td>\n",
              "      <td>0.000000</td>\n",
              "    </tr>\n",
              "    <tr>\n",
              "      <th>Fare</th>\n",
              "      <td>1</td>\n",
              "      <td>0.076394</td>\n",
              "    </tr>\n",
              "    <tr>\n",
              "      <th>Cabin</th>\n",
              "      <td>1014</td>\n",
              "      <td>77.463713</td>\n",
              "    </tr>\n",
              "    <tr>\n",
              "      <th>Embarked</th>\n",
              "      <td>2</td>\n",
              "      <td>0.152788</td>\n",
              "    </tr>\n",
              "  </tbody>\n",
              "</table>\n",
              "</div>"
            ],
            "text/plain": [
              "              欠損数          %\n",
              "PassengerId     0   0.000000\n",
              "Perished      418  31.932773\n",
              "Pclass          0   0.000000\n",
              "Name            0   0.000000\n",
              "Sex             0   0.000000\n",
              "Age           263  20.091673\n",
              "SibSp           0   0.000000\n",
              "Parch           0   0.000000\n",
              "Ticket          0   0.000000\n",
              "Fare            1   0.076394\n",
              "Cabin        1014  77.463713\n",
              "Embarked        2   0.152788"
            ]
          },
          "metadata": {
            "tags": []
          },
          "execution_count": 8
        }
      ]
    },
    {
      "cell_type": "markdown",
      "metadata": {
        "id": "mlQ5s4sdLrOB"
      },
      "source": [
        "タイタニックと全く同じ形式"
      ]
    },
    {
      "cell_type": "code",
      "metadata": {
        "id": "-AJxb_pTF_Be",
        "outputId": "77cdc99f-d7c7-4dc4-c006-52fdc460deca",
        "colab": {
          "base_uri": "https://localhost:8080/",
          "height": 35
        }
      },
      "source": [
        "submission = pd.read_csv('gender_submission.csv')\n",
        "train_data.shape, test_data.shape, submission.shape"
      ],
      "execution_count": null,
      "outputs": [
        {
          "output_type": "execute_result",
          "data": {
            "text/plain": [
              "((891, 12), (418, 11), (418, 2))"
            ]
          },
          "metadata": {
            "tags": []
          },
          "execution_count": 9
        }
      ]
    },
    {
      "cell_type": "code",
      "metadata": {
        "id": "SWQyMvw0IdRD",
        "outputId": "bc9da778-4724-4517-ada8-a0a8d77f5880",
        "colab": {
          "base_uri": "https://localhost:8080/",
          "height": 202
        }
      },
      "source": [
        "submission.tail()"
      ],
      "execution_count": null,
      "outputs": [
        {
          "output_type": "execute_result",
          "data": {
            "text/html": [
              "<div>\n",
              "<style scoped>\n",
              "    .dataframe tbody tr th:only-of-type {\n",
              "        vertical-align: middle;\n",
              "    }\n",
              "\n",
              "    .dataframe tbody tr th {\n",
              "        vertical-align: top;\n",
              "    }\n",
              "\n",
              "    .dataframe thead th {\n",
              "        text-align: right;\n",
              "    }\n",
              "</style>\n",
              "<table border=\"1\" class=\"dataframe\">\n",
              "  <thead>\n",
              "    <tr style=\"text-align: right;\">\n",
              "      <th></th>\n",
              "      <th>PassengerId</th>\n",
              "      <th>Perished</th>\n",
              "    </tr>\n",
              "  </thead>\n",
              "  <tbody>\n",
              "    <tr>\n",
              "      <th>413</th>\n",
              "      <td>1305</td>\n",
              "      <td>1</td>\n",
              "    </tr>\n",
              "    <tr>\n",
              "      <th>414</th>\n",
              "      <td>1306</td>\n",
              "      <td>0</td>\n",
              "    </tr>\n",
              "    <tr>\n",
              "      <th>415</th>\n",
              "      <td>1307</td>\n",
              "      <td>1</td>\n",
              "    </tr>\n",
              "    <tr>\n",
              "      <th>416</th>\n",
              "      <td>1308</td>\n",
              "      <td>1</td>\n",
              "    </tr>\n",
              "    <tr>\n",
              "      <th>417</th>\n",
              "      <td>1309</td>\n",
              "      <td>1</td>\n",
              "    </tr>\n",
              "  </tbody>\n",
              "</table>\n",
              "</div>"
            ],
            "text/plain": [
              "     PassengerId  Perished\n",
              "413         1305         1\n",
              "414         1306         0\n",
              "415         1307         1\n",
              "416         1308         1\n",
              "417         1309         1"
            ]
          },
          "metadata": {
            "tags": []
          },
          "execution_count": 10
        }
      ]
    },
    {
      "cell_type": "markdown",
      "metadata": {
        "id": "iI27rvszL-Ky"
      },
      "source": [
        "おそらく、これはマッピング防止用にSurvivedをPerishedに変換してるの気もする\n",
        "\n",
        "Perishedでは[元のノートブック](https://www.kaggle.com/mviola/titanic-wcg-knns-ensemble-0-82775-top-1)が扱いずらいのでSurvivedに変換。\n",
        "\n",
        "最後のsubmitファイル作成時に戻してる。"
      ]
    },
    {
      "cell_type": "code",
      "metadata": {
        "id": "DZCv45hzAaDw",
        "outputId": "b5161a17-d6e7-4b0a-8e26-f38ba397d18b",
        "colab": {
          "base_uri": "https://localhost:8080/",
          "height": 237
        }
      },
      "source": [
        "data.loc[data['Perished'] == 1, 'Survived'] = 0\n",
        "data.loc[data['Perished'] == 0, 'Survived'] = 1\n",
        "\n",
        "data =  data.drop('Perished',axis=1)\n",
        "\n",
        "data.head()"
      ],
      "execution_count": null,
      "outputs": [
        {
          "output_type": "execute_result",
          "data": {
            "text/html": [
              "<div>\n",
              "<style scoped>\n",
              "    .dataframe tbody tr th:only-of-type {\n",
              "        vertical-align: middle;\n",
              "    }\n",
              "\n",
              "    .dataframe tbody tr th {\n",
              "        vertical-align: top;\n",
              "    }\n",
              "\n",
              "    .dataframe thead th {\n",
              "        text-align: right;\n",
              "    }\n",
              "</style>\n",
              "<table border=\"1\" class=\"dataframe\">\n",
              "  <thead>\n",
              "    <tr style=\"text-align: right;\">\n",
              "      <th></th>\n",
              "      <th>PassengerId</th>\n",
              "      <th>Pclass</th>\n",
              "      <th>Name</th>\n",
              "      <th>Sex</th>\n",
              "      <th>Age</th>\n",
              "      <th>SibSp</th>\n",
              "      <th>Parch</th>\n",
              "      <th>Ticket</th>\n",
              "      <th>Fare</th>\n",
              "      <th>Cabin</th>\n",
              "      <th>Embarked</th>\n",
              "      <th>Survived</th>\n",
              "    </tr>\n",
              "  </thead>\n",
              "  <tbody>\n",
              "    <tr>\n",
              "      <th>0</th>\n",
              "      <td>1</td>\n",
              "      <td>3</td>\n",
              "      <td>Braund, Mr. Owen Harris</td>\n",
              "      <td>male</td>\n",
              "      <td>22.0</td>\n",
              "      <td>1</td>\n",
              "      <td>0</td>\n",
              "      <td>A/5 21171</td>\n",
              "      <td>7.2500</td>\n",
              "      <td>NaN</td>\n",
              "      <td>S</td>\n",
              "      <td>0.0</td>\n",
              "    </tr>\n",
              "    <tr>\n",
              "      <th>1</th>\n",
              "      <td>2</td>\n",
              "      <td>1</td>\n",
              "      <td>Cumings, Mrs. John Bradley (Florence Briggs Th...</td>\n",
              "      <td>female</td>\n",
              "      <td>38.0</td>\n",
              "      <td>1</td>\n",
              "      <td>0</td>\n",
              "      <td>PC 17599</td>\n",
              "      <td>71.2833</td>\n",
              "      <td>C85</td>\n",
              "      <td>C</td>\n",
              "      <td>1.0</td>\n",
              "    </tr>\n",
              "    <tr>\n",
              "      <th>2</th>\n",
              "      <td>3</td>\n",
              "      <td>3</td>\n",
              "      <td>Heikkinen, Miss. Laina</td>\n",
              "      <td>female</td>\n",
              "      <td>26.0</td>\n",
              "      <td>0</td>\n",
              "      <td>0</td>\n",
              "      <td>STON/O2. 3101282</td>\n",
              "      <td>7.9250</td>\n",
              "      <td>NaN</td>\n",
              "      <td>S</td>\n",
              "      <td>1.0</td>\n",
              "    </tr>\n",
              "    <tr>\n",
              "      <th>3</th>\n",
              "      <td>4</td>\n",
              "      <td>1</td>\n",
              "      <td>Futrelle, Mrs. Jacques Heath (Lily May Peel)</td>\n",
              "      <td>female</td>\n",
              "      <td>35.0</td>\n",
              "      <td>1</td>\n",
              "      <td>0</td>\n",
              "      <td>113803</td>\n",
              "      <td>53.1000</td>\n",
              "      <td>C123</td>\n",
              "      <td>S</td>\n",
              "      <td>1.0</td>\n",
              "    </tr>\n",
              "    <tr>\n",
              "      <th>4</th>\n",
              "      <td>5</td>\n",
              "      <td>3</td>\n",
              "      <td>Allen, Mr. William Henry</td>\n",
              "      <td>male</td>\n",
              "      <td>35.0</td>\n",
              "      <td>0</td>\n",
              "      <td>0</td>\n",
              "      <td>373450</td>\n",
              "      <td>8.0500</td>\n",
              "      <td>NaN</td>\n",
              "      <td>S</td>\n",
              "      <td>0.0</td>\n",
              "    </tr>\n",
              "  </tbody>\n",
              "</table>\n",
              "</div>"
            ],
            "text/plain": [
              "   PassengerId  Pclass  ... Embarked Survived\n",
              "0            1       3  ...        S      0.0\n",
              "1            2       1  ...        C      1.0\n",
              "2            3       3  ...        S      1.0\n",
              "3            4       1  ...        S      1.0\n",
              "4            5       3  ...        S      0.0\n",
              "\n",
              "[5 rows x 12 columns]"
            ]
          },
          "metadata": {
            "tags": []
          },
          "execution_count": 11
        }
      ]
    },
    {
      "cell_type": "code",
      "metadata": {
        "id": "Lo8RYWH1DUUN",
        "outputId": "e4952cc6-499e-457a-8858-7e6cef6a100d",
        "colab": {
          "base_uri": "https://localhost:8080/",
          "height": 237
        }
      },
      "source": [
        "data.head()"
      ],
      "execution_count": null,
      "outputs": [
        {
          "output_type": "execute_result",
          "data": {
            "text/html": [
              "<div>\n",
              "<style scoped>\n",
              "    .dataframe tbody tr th:only-of-type {\n",
              "        vertical-align: middle;\n",
              "    }\n",
              "\n",
              "    .dataframe tbody tr th {\n",
              "        vertical-align: top;\n",
              "    }\n",
              "\n",
              "    .dataframe thead th {\n",
              "        text-align: right;\n",
              "    }\n",
              "</style>\n",
              "<table border=\"1\" class=\"dataframe\">\n",
              "  <thead>\n",
              "    <tr style=\"text-align: right;\">\n",
              "      <th></th>\n",
              "      <th>PassengerId</th>\n",
              "      <th>Pclass</th>\n",
              "      <th>Name</th>\n",
              "      <th>Sex</th>\n",
              "      <th>Age</th>\n",
              "      <th>SibSp</th>\n",
              "      <th>Parch</th>\n",
              "      <th>Ticket</th>\n",
              "      <th>Fare</th>\n",
              "      <th>Cabin</th>\n",
              "      <th>Embarked</th>\n",
              "      <th>Survived</th>\n",
              "    </tr>\n",
              "  </thead>\n",
              "  <tbody>\n",
              "    <tr>\n",
              "      <th>0</th>\n",
              "      <td>1</td>\n",
              "      <td>3</td>\n",
              "      <td>Braund, Mr. Owen Harris</td>\n",
              "      <td>male</td>\n",
              "      <td>22.0</td>\n",
              "      <td>1</td>\n",
              "      <td>0</td>\n",
              "      <td>A/5 21171</td>\n",
              "      <td>7.2500</td>\n",
              "      <td>NaN</td>\n",
              "      <td>S</td>\n",
              "      <td>0.0</td>\n",
              "    </tr>\n",
              "    <tr>\n",
              "      <th>1</th>\n",
              "      <td>2</td>\n",
              "      <td>1</td>\n",
              "      <td>Cumings, Mrs. John Bradley (Florence Briggs Th...</td>\n",
              "      <td>female</td>\n",
              "      <td>38.0</td>\n",
              "      <td>1</td>\n",
              "      <td>0</td>\n",
              "      <td>PC 17599</td>\n",
              "      <td>71.2833</td>\n",
              "      <td>C85</td>\n",
              "      <td>C</td>\n",
              "      <td>1.0</td>\n",
              "    </tr>\n",
              "    <tr>\n",
              "      <th>2</th>\n",
              "      <td>3</td>\n",
              "      <td>3</td>\n",
              "      <td>Heikkinen, Miss. Laina</td>\n",
              "      <td>female</td>\n",
              "      <td>26.0</td>\n",
              "      <td>0</td>\n",
              "      <td>0</td>\n",
              "      <td>STON/O2. 3101282</td>\n",
              "      <td>7.9250</td>\n",
              "      <td>NaN</td>\n",
              "      <td>S</td>\n",
              "      <td>1.0</td>\n",
              "    </tr>\n",
              "    <tr>\n",
              "      <th>3</th>\n",
              "      <td>4</td>\n",
              "      <td>1</td>\n",
              "      <td>Futrelle, Mrs. Jacques Heath (Lily May Peel)</td>\n",
              "      <td>female</td>\n",
              "      <td>35.0</td>\n",
              "      <td>1</td>\n",
              "      <td>0</td>\n",
              "      <td>113803</td>\n",
              "      <td>53.1000</td>\n",
              "      <td>C123</td>\n",
              "      <td>S</td>\n",
              "      <td>1.0</td>\n",
              "    </tr>\n",
              "    <tr>\n",
              "      <th>4</th>\n",
              "      <td>5</td>\n",
              "      <td>3</td>\n",
              "      <td>Allen, Mr. William Henry</td>\n",
              "      <td>male</td>\n",
              "      <td>35.0</td>\n",
              "      <td>0</td>\n",
              "      <td>0</td>\n",
              "      <td>373450</td>\n",
              "      <td>8.0500</td>\n",
              "      <td>NaN</td>\n",
              "      <td>S</td>\n",
              "      <td>0.0</td>\n",
              "    </tr>\n",
              "  </tbody>\n",
              "</table>\n",
              "</div>"
            ],
            "text/plain": [
              "   PassengerId  Pclass  ... Embarked Survived\n",
              "0            1       3  ...        S      0.0\n",
              "1            2       1  ...        C      1.0\n",
              "2            3       3  ...        S      1.0\n",
              "3            4       1  ...        S      1.0\n",
              "4            5       3  ...        S      0.0\n",
              "\n",
              "[5 rows x 12 columns]"
            ]
          },
          "metadata": {
            "tags": []
          },
          "execution_count": 12
        }
      ]
    },
    {
      "cell_type": "markdown",
      "metadata": {
        "papermill": {
          "duration": 0.02173,
          "end_time": "2020-09-01T14:07:47.200769",
          "exception": false,
          "start_time": "2020-09-01T14:07:47.179039",
          "status": "completed"
        },
        "tags": [],
        "id": "FuArU-Mv_Qyv"
      },
      "source": [
        "# WCG (Woman-Child-Groups)\n",
        "\n",
        "\n",
        "タイタニック・メガ・モデルの最初の部分でクリスが開発したWCGモデル(ルールベースモデル)の最終バージョンをコード化。\n",
        "\n",
        "**参考文献 [WCGモデルのノート](https://www.kaggle.com/cdeotte/titantic-mega-model-0-84210)**\n",
        "\n"
      ]
    },
    {
      "cell_type": "markdown",
      "metadata": {
        "id": "qlxzVGt3Vlp3"
      },
      "source": [
        "ルールベースによるWCGモデルを構築するため、家族を正確に識別する`Group_id` 機能をエンジニアリングする上で必須となるため、まず最初に行うべきことは`Name` 列から苗字を抽出することです。\n"
      ]
    },
    {
      "cell_type": "code",
      "metadata": {
        "execution": {
          "iopub.execute_input": "2020-09-01T14:07:47.252451Z",
          "iopub.status.busy": "2020-09-01T14:07:47.251701Z",
          "iopub.status.idle": "2020-09-01T14:07:47.253647Z",
          "shell.execute_reply": "2020-09-01T14:07:47.254147Z"
        },
        "papermill": {
          "duration": 0.031596,
          "end_time": "2020-09-01T14:07:47.254305",
          "exception": false,
          "start_time": "2020-09-01T14:07:47.222709",
          "status": "completed"
        },
        "tags": [],
        "id": "_FahwmyR_Qyw"
      },
      "source": [
        "data['Surname'] = data['Name'].apply(lambda x: x.split(',')[0])"
      ],
      "execution_count": null,
      "outputs": []
    },
    {
      "cell_type": "markdown",
      "metadata": {
        "papermill": {
          "duration": 0.022039,
          "end_time": "2020-09-01T14:07:47.298523",
          "exception": false,
          "start_time": "2020-09-01T14:07:47.276484",
          "status": "completed"
        },
        "tags": [],
        "id": "YP_Cb8MQ_Qyz"
      },
      "source": [
        "各乗客について、 `Surname + Pclass + Ticket + Fare + Embarked` の文字列を連結して、 `Group_id`という名前の英数字という新しい特長量を作成する。\n",
        "Erik Bruin氏の[このノート](https://www.kaggle.com/erikbruin/titanic-2nd-degree-families-and-majority-voting) で証明されているように、一緒に旅行している乗客のチケットは下の桁が異なることがあるので、一貫性を持たせるために下の桁を削除して、最大数のグループを識別しましょう（例えば、 `Ticket`の値 'CA.2343' は 'CA.234' になります）。\n",
        " `SibSp`や `Parch` などの他の機能は、エラーが含まれているため、 `Group_id` には意図的に含まれていません。\n",
        "`Cabin` カラムも、データが不足しているため含まれていません。\n",
        "必要なことを正確に行う group_id 関数を書いてみましょう。\n",
        "後で再利用する `Ticket_id` ヘルパー列を渡しています。\n",
        "\n",
        "<br>\n",
        "\n",
        "`Fare`のNullはここに通しちゃって大丈夫。"
      ]
    },
    {
      "cell_type": "code",
      "metadata": {
        "execution": {
          "iopub.execute_input": "2020-09-01T14:07:47.351462Z",
          "iopub.status.busy": "2020-09-01T14:07:47.350582Z",
          "iopub.status.idle": "2020-09-01T14:07:47.526378Z",
          "shell.execute_reply": "2020-09-01T14:07:47.525750Z"
        },
        "papermill": {
          "duration": 0.205532,
          "end_time": "2020-09-01T14:07:47.526510",
          "exception": false,
          "start_time": "2020-09-01T14:07:47.320978",
          "status": "completed"
        },
        "tags": [],
        "id": "RvN_7VZ2_Qy0"
      },
      "source": [
        "# New Ticket_id column\n",
        "data['Ticket_id'] = 'new_col'\n",
        "# Initialize Ticket_id = Pclass + Ticket + Fare + Embarked\n",
        "def ticket_id(row):\n",
        "    row['Ticket_id'] = str(row.Pclass) + '-' + str(row.Ticket)[:-1] + '-' + str(row.Fare) + '-' + str(row.Embarked)\n",
        "    return row\n",
        "\n",
        "data = data.apply(ticket_id, axis='columns')"
      ],
      "execution_count": null,
      "outputs": []
    },
    {
      "cell_type": "code",
      "metadata": {
        "execution": {
          "iopub.execute_input": "2020-09-01T14:07:47.581199Z",
          "iopub.status.busy": "2020-09-01T14:07:47.580074Z",
          "iopub.status.idle": "2020-09-01T14:07:47.799589Z",
          "shell.execute_reply": "2020-09-01T14:07:47.798568Z"
        },
        "papermill": {
          "duration": 0.250716,
          "end_time": "2020-09-01T14:07:47.799767",
          "exception": false,
          "start_time": "2020-09-01T14:07:47.549051",
          "status": "completed"
        },
        "tags": [],
        "id": "di38LRXD_Qy2"
      },
      "source": [
        "# New Group_id column\n",
        "data['Group_id'] = 'new_col2'\n",
        "# Initialize Group_id = Surname + Ticket_id\n",
        "def group_id(row):\n",
        "    row['Group_id'] = str(row.Surname) + '-' + str(row.Ticket_id)\n",
        "    return row\n",
        "\n",
        "data = data.apply(group_id, axis='columns')"
      ],
      "execution_count": null,
      "outputs": []
    },
    {
      "cell_type": "markdown",
      "metadata": {
        "papermill": {
          "duration": 0.021683,
          "end_time": "2020-09-01T14:07:47.844457",
          "exception": false,
          "start_time": "2020-09-01T14:07:47.822774",
          "status": "completed"
        },
        "tags": [],
        "id": "4Pig14MR_Qy6"
      },
      "source": [
        "今度は乗客を男性、女性、子供（男性のみ）の3つに分けます。 \n",
        "後者の2つからWCGを作成し、グループに生存率を割り振って、テストデータの中にメンバーがいた場合の予測ができるようにします。\n",
        "<br><br>\n",
        "ドメイン知識\n",
        "<br>\n",
        "[マスター(敬称)](https://ja.wikipedia.org/wiki/%E3%83%9E%E3%82%B9%E3%82%BF%E3%83%BC_(%E6%95%AC%E7%A7%B0))"
      ]
    },
    {
      "cell_type": "code",
      "metadata": {
        "execution": {
          "iopub.execute_input": "2020-09-01T14:07:47.899659Z",
          "iopub.status.busy": "2020-09-01T14:07:47.896212Z",
          "iopub.status.idle": "2020-09-01T14:07:47.902700Z",
          "shell.execute_reply": "2020-09-01T14:07:47.902138Z"
        },
        "papermill": {
          "duration": 0.036196,
          "end_time": "2020-09-01T14:07:47.902810",
          "exception": false,
          "start_time": "2020-09-01T14:07:47.866614",
          "status": "completed"
        },
        "tags": [],
        "id": "SL-b8U4D_Qy-"
      },
      "source": [
        "# creation of the Title feature\n",
        "data['Title'] = 'man'\n",
        "data.loc[data.Sex == 'female', 'Title'] = 'woman'\n",
        "data.loc[data['Name'].str.contains('Master'), 'Title'] = 'boy'"
      ],
      "execution_count": null,
      "outputs": []
    },
    {
      "cell_type": "markdown",
      "metadata": {
        "papermill": {
          "duration": 0.02219,
          "end_time": "2020-09-01T14:07:47.947305",
          "exception": false,
          "start_time": "2020-09-01T14:07:47.925115",
          "status": "completed"
        },
        "tags": [],
        "id": "8JlEEa0B_QzC"
      },
      "source": [
        "ここで、すべての男性に'noGroup'というラベルを割り当て、データフレームの各`Group_id`要素の頻度を新しい`WC_count`列にカウントします。 \n",
        "次に、データフレーム全体の中で `Group_id` の値が一意である（つまり、頻度が1の）女性や子供にも 'noGroup' を割り当てます。\n"
      ]
    },
    {
      "cell_type": "code",
      "metadata": {
        "execution": {
          "iopub.execute_input": "2020-09-01T14:07:48.004069Z",
          "iopub.status.busy": "2020-09-01T14:07:48.003041Z",
          "iopub.status.idle": "2020-09-01T14:07:48.028016Z",
          "shell.execute_reply": "2020-09-01T14:07:48.027447Z"
        },
        "papermill": {
          "duration": 0.058515,
          "end_time": "2020-09-01T14:07:48.028136",
          "exception": false,
          "start_time": "2020-09-01T14:07:47.969621",
          "status": "completed"
        },
        "tags": [],
        "id": "GG6PmDxW_QzC"
      },
      "source": [
        "data.loc[data.Title == 'man', 'Group_id'] = 'noGroup'\n",
        "# New column with WC frequency\n",
        "data['WC_count'] = data.loc[data.Title != 'man'].groupby('Group_id')['Group_id'].transform('count')\n",
        "# assign noGroup to every unique value\n",
        "data.loc[data.WC_count <=1, 'Group_id'] = 'noGroup'"
      ],
      "execution_count": null,
      "outputs": []
    },
    {
      "cell_type": "markdown",
      "metadata": {
        "papermill": {
          "duration": 0.022239,
          "end_time": "2020-09-01T14:07:48.072827",
          "exception": false,
          "start_time": "2020-09-01T14:07:48.050588",
          "status": "completed"
        },
        "tags": [],
        "id": "et9XImVR_QzF"
      },
      "source": [
        "識別したグループに親戚を追加します。 \n",
        "さて、彼らは異なる `Surname` を持っていますが、他のエントリはすべて同じなので、同じ `Ticket_id` を持っています。 "
      ]
    },
    {
      "cell_type": "code",
      "metadata": {
        "id": "Bx5XK7uKN5Yp",
        "outputId": "946465ac-03f9-4550-c5d1-5db82b140f67",
        "colab": {
          "base_uri": "https://localhost:8080/",
          "height": 225
        }
      },
      "source": [
        "data['Ticket_id'].value_counts()"
      ],
      "execution_count": null,
      "outputs": [
        {
          "output_type": "execute_result",
          "data": {
            "text/plain": [
              "3-CA. 234-69.55-S     11\n",
              "3-34922-7.8958-S       9\n",
              "3-31509-8.6625-S       9\n",
              "3-34920-7.8958-S       8\n",
              "3-34706-7.775-S        8\n",
              "                      ..\n",
              "3-753-9.2167-S         1\n",
              "3-270-7.2292-C         1\n",
              "3-C.A. 4986-7.55-S     1\n",
              "3-CA. 231-7.55-S       1\n",
              "3-264-7.2292-C         1\n",
              "Name: Ticket_id, Length: 667, dtype: int64"
            ]
          },
          "metadata": {
            "tags": []
          },
          "execution_count": 18
        }
      ]
    },
    {
      "cell_type": "code",
      "metadata": {
        "_kg_hide-input": true,
        "execution": {
          "iopub.execute_input": "2020-09-01T14:07:48.132910Z",
          "iopub.status.busy": "2020-09-01T14:07:48.131899Z",
          "iopub.status.idle": "2020-09-01T14:07:48.141707Z",
          "shell.execute_reply": "2020-09-01T14:07:48.141062Z"
        },
        "papermill": {
          "duration": 0.046461,
          "end_time": "2020-09-01T14:07:48.141829",
          "exception": false,
          "start_time": "2020-09-01T14:07:48.095368",
          "status": "completed"
        },
        "tags": [],
        "id": "R4y8I2Sb_QzF",
        "outputId": "238de4e4-20b2-43da-88e8-dcf81f476446",
        "colab": {
          "base_uri": "https://localhost:8080/",
          "height": 263
        }
      },
      "source": [
        "cols = ['PassengerId', 'Survived', 'Name', 'Title', 'Ticket_id','Group_id']\n",
        "# data.loc[(data.Ticket_id == '1-1696-134.5-C') & (data.Title != 'man'), cols]\n",
        "data.loc[(data.Ticket_id == '3-CA. 234-69.55-S') & (data.Title != 'man'), cols]"
      ],
      "execution_count": null,
      "outputs": [
        {
          "output_type": "execute_result",
          "data": {
            "text/html": [
              "<div>\n",
              "<style scoped>\n",
              "    .dataframe tbody tr th:only-of-type {\n",
              "        vertical-align: middle;\n",
              "    }\n",
              "\n",
              "    .dataframe tbody tr th {\n",
              "        vertical-align: top;\n",
              "    }\n",
              "\n",
              "    .dataframe thead th {\n",
              "        text-align: right;\n",
              "    }\n",
              "</style>\n",
              "<table border=\"1\" class=\"dataframe\">\n",
              "  <thead>\n",
              "    <tr style=\"text-align: right;\">\n",
              "      <th></th>\n",
              "      <th>PassengerId</th>\n",
              "      <th>Survived</th>\n",
              "      <th>Name</th>\n",
              "      <th>Title</th>\n",
              "      <th>Ticket_id</th>\n",
              "      <th>Group_id</th>\n",
              "    </tr>\n",
              "  </thead>\n",
              "  <tbody>\n",
              "    <tr>\n",
              "      <th>159</th>\n",
              "      <td>160</td>\n",
              "      <td>0.0</td>\n",
              "      <td>Sage, Master. Thomas Henry</td>\n",
              "      <td>boy</td>\n",
              "      <td>3-CA. 234-69.55-S</td>\n",
              "      <td>Sage-3-CA. 234-69.55-S</td>\n",
              "    </tr>\n",
              "    <tr>\n",
              "      <th>180</th>\n",
              "      <td>181</td>\n",
              "      <td>0.0</td>\n",
              "      <td>Sage, Miss. Constance Gladys</td>\n",
              "      <td>woman</td>\n",
              "      <td>3-CA. 234-69.55-S</td>\n",
              "      <td>Sage-3-CA. 234-69.55-S</td>\n",
              "    </tr>\n",
              "    <tr>\n",
              "      <th>792</th>\n",
              "      <td>793</td>\n",
              "      <td>0.0</td>\n",
              "      <td>Sage, Miss. Stella Anna</td>\n",
              "      <td>woman</td>\n",
              "      <td>3-CA. 234-69.55-S</td>\n",
              "      <td>Sage-3-CA. 234-69.55-S</td>\n",
              "    </tr>\n",
              "    <tr>\n",
              "      <th>863</th>\n",
              "      <td>864</td>\n",
              "      <td>0.0</td>\n",
              "      <td>Sage, Miss. Dorothy Edith \"Dolly\"</td>\n",
              "      <td>woman</td>\n",
              "      <td>3-CA. 234-69.55-S</td>\n",
              "      <td>Sage-3-CA. 234-69.55-S</td>\n",
              "    </tr>\n",
              "    <tr>\n",
              "      <th>1079</th>\n",
              "      <td>1080</td>\n",
              "      <td>NaN</td>\n",
              "      <td>Sage, Miss. Ada</td>\n",
              "      <td>woman</td>\n",
              "      <td>3-CA. 234-69.55-S</td>\n",
              "      <td>Sage-3-CA. 234-69.55-S</td>\n",
              "    </tr>\n",
              "    <tr>\n",
              "      <th>1251</th>\n",
              "      <td>1252</td>\n",
              "      <td>NaN</td>\n",
              "      <td>Sage, Master. William Henry</td>\n",
              "      <td>boy</td>\n",
              "      <td>3-CA. 234-69.55-S</td>\n",
              "      <td>Sage-3-CA. 234-69.55-S</td>\n",
              "    </tr>\n",
              "    <tr>\n",
              "      <th>1256</th>\n",
              "      <td>1257</td>\n",
              "      <td>NaN</td>\n",
              "      <td>Sage, Mrs. John (Annie Bullen)</td>\n",
              "      <td>woman</td>\n",
              "      <td>3-CA. 234-69.55-S</td>\n",
              "      <td>Sage-3-CA. 234-69.55-S</td>\n",
              "    </tr>\n",
              "  </tbody>\n",
              "</table>\n",
              "</div>"
            ],
            "text/plain": [
              "      PassengerId  Survived  ...          Ticket_id                Group_id\n",
              "159           160       0.0  ...  3-CA. 234-69.55-S  Sage-3-CA. 234-69.55-S\n",
              "180           181       0.0  ...  3-CA. 234-69.55-S  Sage-3-CA. 234-69.55-S\n",
              "792           793       0.0  ...  3-CA. 234-69.55-S  Sage-3-CA. 234-69.55-S\n",
              "863           864       0.0  ...  3-CA. 234-69.55-S  Sage-3-CA. 234-69.55-S\n",
              "1079         1080       NaN  ...  3-CA. 234-69.55-S  Sage-3-CA. 234-69.55-S\n",
              "1251         1252       NaN  ...  3-CA. 234-69.55-S  Sage-3-CA. 234-69.55-S\n",
              "1256         1257       NaN  ...  3-CA. 234-69.55-S  Sage-3-CA. 234-69.55-S\n",
              "\n",
              "[7 rows x 6 columns]"
            ]
          },
          "metadata": {
            "tags": []
          },
          "execution_count": 19
        }
      ]
    },
    {
      "cell_type": "markdown",
      "metadata": {
        "papermill": {
          "duration": 0.023258,
          "end_time": "2020-09-01T14:07:48.188575",
          "exception": false,
          "start_time": "2020-09-01T14:07:48.165317",
          "status": "completed"
        },
        "tags": [],
        "id": "1JOYElex_QzJ"
      },
      "source": [
        "これらの人々はすべて同じ `Pclass`, `Fare`, `Embarked`, `Ticket` の番号を持ってて、そのうちの3人(Henry二人は兄弟で、母親が一人いる的な)はどのグループに属している可能大。\n",
        "そこで、既存のグループに含まれている可能性の高い女性(または子供)を探す。 \n",
        "この場合、`Group_id` が 'noGroup' で、成人男性ではない乗客をすべてループする。"
      ]
    },
    {
      "cell_type": "code",
      "metadata": {
        "execution": {
          "iopub.execute_input": "2020-09-01T14:07:48.719726Z",
          "iopub.status.busy": "2020-09-01T14:07:48.665397Z",
          "iopub.status.idle": "2020-09-01T14:07:48.727865Z",
          "shell.execute_reply": "2020-09-01T14:07:48.726610Z"
        },
        "papermill": {
          "duration": 0.516234,
          "end_time": "2020-09-01T14:07:48.727996",
          "exception": false,
          "start_time": "2020-09-01T14:07:48.211762",
          "status": "completed"
        },
        "tags": [],
        "id": "N7a1E1PQ_QzK",
        "outputId": "1a24745e-40c0-4553-fc9b-22f934fa0767",
        "colab": {
          "base_uri": "https://localhost:8080/",
          "height": 35
        }
      },
      "source": [
        "indices = []\n",
        "count = 0\n",
        "for i in range(0,1309):\n",
        "    if (data.loc[i,'Title'] != 'man') & (data.loc[i,'Group_id'] == 'noGroup'):\n",
        "        data.loc[i,'Group_id'] = data.loc[(data['Ticket_id'] == data.loc[i, 'Ticket_id']) & (data.Title != 'man'), 'Group_id'].iloc[0]\n",
        "        if (data.loc[i, 'Group_id'] != 'noGroup'):\n",
        "            indices.append(i)\n",
        "            count += 1\n",
        "print('{:d} passengers were added to an existing group'.format(count))"
      ],
      "execution_count": null,
      "outputs": [
        {
          "output_type": "stream",
          "text": [
            "11 passengers were added to an existing group\n"
          ],
          "name": "stdout"
        }
      ]
    },
    {
      "cell_type": "code",
      "metadata": {
        "_kg_hide-input": true,
        "execution": {
          "iopub.execute_input": "2020-09-01T14:07:48.837351Z",
          "iopub.status.busy": "2020-09-01T14:07:48.836642Z",
          "iopub.status.idle": "2020-09-01T14:07:48.841015Z",
          "shell.execute_reply": "2020-09-01T14:07:48.840505Z"
        },
        "papermill": {
          "duration": 0.043117,
          "end_time": "2020-09-01T14:07:48.841131",
          "exception": false,
          "start_time": "2020-09-01T14:07:48.798014",
          "status": "completed"
        },
        "tags": [],
        "id": "3SE6tEcC_QzM",
        "outputId": "43422b34-8693-452e-9dc4-c152351f2bcf",
        "colab": {
          "base_uri": "https://localhost:8080/",
          "height": 386
        }
      },
      "source": [
        "cols = ['PassengerId', 'Survived', 'Name', 'Title', 'Group_id']\n",
        "data.loc[indices, cols]"
      ],
      "execution_count": null,
      "outputs": [
        {
          "output_type": "execute_result",
          "data": {
            "text/html": [
              "<div>\n",
              "<style scoped>\n",
              "    .dataframe tbody tr th:only-of-type {\n",
              "        vertical-align: middle;\n",
              "    }\n",
              "\n",
              "    .dataframe tbody tr th {\n",
              "        vertical-align: top;\n",
              "    }\n",
              "\n",
              "    .dataframe thead th {\n",
              "        text-align: right;\n",
              "    }\n",
              "</style>\n",
              "<table border=\"1\" class=\"dataframe\">\n",
              "  <thead>\n",
              "    <tr style=\"text-align: right;\">\n",
              "      <th></th>\n",
              "      <th>PassengerId</th>\n",
              "      <th>Survived</th>\n",
              "      <th>Name</th>\n",
              "      <th>Title</th>\n",
              "      <th>Group_id</th>\n",
              "    </tr>\n",
              "  </thead>\n",
              "  <tbody>\n",
              "    <tr>\n",
              "      <th>337</th>\n",
              "      <td>338</td>\n",
              "      <td>1.0</td>\n",
              "      <td>Burns, Miss. Elizabeth Margaret</td>\n",
              "      <td>woman</td>\n",
              "      <td>Spedden-1-1696-134.5-C</td>\n",
              "    </tr>\n",
              "    <tr>\n",
              "      <th>708</th>\n",
              "      <td>709</td>\n",
              "      <td>1.0</td>\n",
              "      <td>Cleaver, Miss. Alice</td>\n",
              "      <td>woman</td>\n",
              "      <td>Allison-1-11378-151.55-S</td>\n",
              "    </tr>\n",
              "    <tr>\n",
              "      <th>950</th>\n",
              "      <td>951</td>\n",
              "      <td>NaN</td>\n",
              "      <td>Chaudanson, Miss. Victorine</td>\n",
              "      <td>woman</td>\n",
              "      <td>Ryerson-1-PC 1760-262.375-C</td>\n",
              "    </tr>\n",
              "    <tr>\n",
              "      <th>1032</th>\n",
              "      <td>1033</td>\n",
              "      <td>NaN</td>\n",
              "      <td>Daniels, Miss. Sarah</td>\n",
              "      <td>woman</td>\n",
              "      <td>Allison-1-11378-151.55-S</td>\n",
              "    </tr>\n",
              "    <tr>\n",
              "      <th>1067</th>\n",
              "      <td>1068</td>\n",
              "      <td>NaN</td>\n",
              "      <td>Sincock, Miss. Maude</td>\n",
              "      <td>woman</td>\n",
              "      <td>Davies-2-C.A. 3311-36.75-S</td>\n",
              "    </tr>\n",
              "    <tr>\n",
              "      <th>1140</th>\n",
              "      <td>1141</td>\n",
              "      <td>NaN</td>\n",
              "      <td>Khalil, Mrs. Betros (Zahie Maria\" Elias)\"</td>\n",
              "      <td>woman</td>\n",
              "      <td>Zabour-3-266-14.4542-C</td>\n",
              "    </tr>\n",
              "    <tr>\n",
              "      <th>1171</th>\n",
              "      <td>1172</td>\n",
              "      <td>NaN</td>\n",
              "      <td>Oreskovic, Miss. Jelka</td>\n",
              "      <td>woman</td>\n",
              "      <td>Cacic-3-31508-8.6625-S</td>\n",
              "    </tr>\n",
              "    <tr>\n",
              "      <th>1258</th>\n",
              "      <td>1259</td>\n",
              "      <td>NaN</td>\n",
              "      <td>Riihivouri, Miss. Susanna Juhantytar Sanni\"\"</td>\n",
              "      <td>woman</td>\n",
              "      <td>Panula-3-310129-39.6875-S</td>\n",
              "    </tr>\n",
              "    <tr>\n",
              "      <th>1262</th>\n",
              "      <td>1263</td>\n",
              "      <td>NaN</td>\n",
              "      <td>Wilson, Miss. Helen Alice</td>\n",
              "      <td>woman</td>\n",
              "      <td>Spedden-1-1696-134.5-C</td>\n",
              "    </tr>\n",
              "    <tr>\n",
              "      <th>1266</th>\n",
              "      <td>1267</td>\n",
              "      <td>NaN</td>\n",
              "      <td>Bowen, Miss. Grace Scott</td>\n",
              "      <td>woman</td>\n",
              "      <td>Ryerson-1-PC 1760-262.375-C</td>\n",
              "    </tr>\n",
              "    <tr>\n",
              "      <th>1291</th>\n",
              "      <td>1292</td>\n",
              "      <td>NaN</td>\n",
              "      <td>Bonnell, Miss. Caroline</td>\n",
              "      <td>woman</td>\n",
              "      <td>Wick-1-3692-164.8667-S</td>\n",
              "    </tr>\n",
              "  </tbody>\n",
              "</table>\n",
              "</div>"
            ],
            "text/plain": [
              "      PassengerId  Survived  ...  Title                     Group_id\n",
              "337           338       1.0  ...  woman       Spedden-1-1696-134.5-C\n",
              "708           709       1.0  ...  woman     Allison-1-11378-151.55-S\n",
              "950           951       NaN  ...  woman  Ryerson-1-PC 1760-262.375-C\n",
              "1032         1033       NaN  ...  woman     Allison-1-11378-151.55-S\n",
              "1067         1068       NaN  ...  woman   Davies-2-C.A. 3311-36.75-S\n",
              "1140         1141       NaN  ...  woman       Zabour-3-266-14.4542-C\n",
              "1171         1172       NaN  ...  woman       Cacic-3-31508-8.6625-S\n",
              "1258         1259       NaN  ...  woman    Panula-3-310129-39.6875-S\n",
              "1262         1263       NaN  ...  woman       Spedden-1-1696-134.5-C\n",
              "1266         1267       NaN  ...  woman  Ryerson-1-PC 1760-262.375-C\n",
              "1291         1292       NaN  ...  woman       Wick-1-3692-164.8667-S\n",
              "\n",
              "[11 rows x 5 columns]"
            ]
          },
          "metadata": {
            "tags": []
          },
          "execution_count": 21
        }
      ]
    },
    {
      "cell_type": "markdown",
      "metadata": {
        "papermill": {
          "duration": 0.023679,
          "end_time": "2020-09-01T14:07:48.888508",
          "exception": false,
          "start_time": "2020-09-01T14:07:48.864829",
          "status": "completed"
        },
        "tags": [],
        "id": "wZFoahZI_QzP"
      },
      "source": [
        "11人のうち9人がテストデータに含まれているようなので、他にも死亡した女性がいる可能性あり。"
      ]
    },
    {
      "cell_type": "code",
      "metadata": {
        "_kg_hide-input": true,
        "execution": {
          "iopub.execute_input": "2020-09-01T14:07:48.948676Z",
          "iopub.status.busy": "2020-09-01T14:07:48.947990Z",
          "iopub.status.idle": "2020-09-01T14:07:48.952001Z",
          "shell.execute_reply": "2020-09-01T14:07:48.951426Z"
        },
        "papermill": {
          "duration": 0.039185,
          "end_time": "2020-09-01T14:07:48.952117",
          "exception": false,
          "start_time": "2020-09-01T14:07:48.912932",
          "status": "completed"
        },
        "tags": [],
        "id": "SRhvbxSl_QzP",
        "outputId": "337c170d-6915-40cf-88e6-f0d65f29353a",
        "colab": {
          "base_uri": "https://localhost:8080/",
          "height": 139
        }
      },
      "source": [
        "number_of_groups = data.loc[data.Group_id != 'noGroup', 'Group_id'].nunique()\n",
        "print('Number of groups found: {:d}'.format(number_of_groups))\n",
        "number_of_WCG_passengers = data.loc[data.Group_id != 'noGroup', 'Group_id'].count()\n",
        "print('\\nNumber of passengers in a group: {:d}'.format(number_of_WCG_passengers))\n",
        "composition = data.loc[data.Group_id != 'noGroup','Title'].value_counts()\n",
        "print('\\nComposition of the groups:')\n",
        "print(composition.to_string())"
      ],
      "execution_count": null,
      "outputs": [
        {
          "output_type": "stream",
          "text": [
            "Number of groups found: 80\n",
            "\n",
            "Number of passengers in a group: 230\n",
            "\n",
            "Composition of the groups:\n",
            "woman    171\n",
            "boy       59\n"
          ],
          "name": "stdout"
        }
      ]
    },
    {
      "cell_type": "markdown",
      "metadata": {
        "papermill": {
          "duration": 0.027115,
          "end_time": "2020-09-01T14:07:49.002236",
          "exception": false,
          "start_time": "2020-09-01T14:07:48.975121",
          "status": "completed"
        },
        "tags": [],
        "id": "gRSVi4AN_QzS"
      },
      "source": [
        "女性171人、男の子59人の合計230人の乗客に対して、80人の女性と子供のグループを発見しました。 \n",
        "このアプローチの中心的な側面である、各グループの平均生存率を計算する。 \n",
        "その方法は以下の通りです: 単純に `Group_id` でグループ化し、既知の `Survived` 値の平均値を評価します。\n"
      ]
    },
    {
      "cell_type": "code",
      "metadata": {
        "execution": {
          "iopub.execute_input": "2020-09-01T14:07:49.093017Z",
          "iopub.status.busy": "2020-09-01T14:07:49.092003Z",
          "iopub.status.idle": "2020-09-01T14:07:49.104464Z",
          "shell.execute_reply": "2020-09-01T14:07:49.105022Z"
        },
        "papermill": {
          "duration": 0.063,
          "end_time": "2020-09-01T14:07:49.105177",
          "exception": false,
          "start_time": "2020-09-01T14:07:49.042177",
          "status": "completed"
        },
        "tags": [],
        "id": "Erp5pgu5_QzS"
      },
      "source": [
        "data['WCSurvived'] = data.loc[(data.Title != 'man') & (data.Group_id != 'noGroup')].groupby('Group_id').Survived.transform('mean')"
      ],
      "execution_count": null,
      "outputs": []
    },
    {
      "cell_type": "markdown",
      "metadata": {
        "papermill": {
          "duration": 0.023219,
          "end_time": "2020-09-01T14:07:49.152210",
          "exception": false,
          "start_time": "2020-09-01T14:07:49.128991",
          "status": "completed"
        },
        "tags": [],
        "id": "HZCTdPS9_QzV"
      },
      "source": [
        "あるグループにトレインデータとテストデータの両方の乗客がいる場合、2番目のグループには、その特定のグループの列車データの `Survived` 値の平均値である `WCSurvived` 値が関連付けられている。\n"
      ]
    },
    {
      "cell_type": "code",
      "metadata": {
        "_kg_hide-input": true,
        "execution": {
          "iopub.execute_input": "2020-09-01T14:07:49.211424Z",
          "iopub.status.busy": "2020-09-01T14:07:49.210416Z",
          "iopub.status.idle": "2020-09-01T14:07:49.227051Z",
          "shell.execute_reply": "2020-09-01T14:07:49.227645Z"
        },
        "papermill": {
          "duration": 0.044998,
          "end_time": "2020-09-01T14:07:49.227787",
          "exception": false,
          "start_time": "2020-09-01T14:07:49.182789",
          "status": "completed"
        },
        "tags": [],
        "id": "25EdRxuJ_QzV",
        "outputId": "2c9875d9-b3ac-4c4f-9d70-429d342abd34",
        "colab": {
          "base_uri": "https://localhost:8080/",
          "height": 386
        }
      },
      "source": [
        "cols = ['PassengerId', 'Survived', 'WCSurvived', 'Name', 'Title', 'Group_id']\n",
        "# data.loc[data.Group_id == 'Sage-3-CA. 234-69.55-S', cols]\n",
        "\n",
        "data.loc[(data.Ticket_id == '3-CA. 234-69.55-S'),cols]"
      ],
      "execution_count": null,
      "outputs": [
        {
          "output_type": "execute_result",
          "data": {
            "text/html": [
              "<div>\n",
              "<style scoped>\n",
              "    .dataframe tbody tr th:only-of-type {\n",
              "        vertical-align: middle;\n",
              "    }\n",
              "\n",
              "    .dataframe tbody tr th {\n",
              "        vertical-align: top;\n",
              "    }\n",
              "\n",
              "    .dataframe thead th {\n",
              "        text-align: right;\n",
              "    }\n",
              "</style>\n",
              "<table border=\"1\" class=\"dataframe\">\n",
              "  <thead>\n",
              "    <tr style=\"text-align: right;\">\n",
              "      <th></th>\n",
              "      <th>PassengerId</th>\n",
              "      <th>Survived</th>\n",
              "      <th>WCSurvived</th>\n",
              "      <th>Name</th>\n",
              "      <th>Title</th>\n",
              "      <th>Group_id</th>\n",
              "    </tr>\n",
              "  </thead>\n",
              "  <tbody>\n",
              "    <tr>\n",
              "      <th>159</th>\n",
              "      <td>160</td>\n",
              "      <td>0.0</td>\n",
              "      <td>0.0</td>\n",
              "      <td>Sage, Master. Thomas Henry</td>\n",
              "      <td>boy</td>\n",
              "      <td>Sage-3-CA. 234-69.55-S</td>\n",
              "    </tr>\n",
              "    <tr>\n",
              "      <th>180</th>\n",
              "      <td>181</td>\n",
              "      <td>0.0</td>\n",
              "      <td>0.0</td>\n",
              "      <td>Sage, Miss. Constance Gladys</td>\n",
              "      <td>woman</td>\n",
              "      <td>Sage-3-CA. 234-69.55-S</td>\n",
              "    </tr>\n",
              "    <tr>\n",
              "      <th>201</th>\n",
              "      <td>202</td>\n",
              "      <td>0.0</td>\n",
              "      <td>NaN</td>\n",
              "      <td>Sage, Mr. Frederick</td>\n",
              "      <td>man</td>\n",
              "      <td>noGroup</td>\n",
              "    </tr>\n",
              "    <tr>\n",
              "      <th>324</th>\n",
              "      <td>325</td>\n",
              "      <td>0.0</td>\n",
              "      <td>NaN</td>\n",
              "      <td>Sage, Mr. George John Jr</td>\n",
              "      <td>man</td>\n",
              "      <td>noGroup</td>\n",
              "    </tr>\n",
              "    <tr>\n",
              "      <th>792</th>\n",
              "      <td>793</td>\n",
              "      <td>0.0</td>\n",
              "      <td>0.0</td>\n",
              "      <td>Sage, Miss. Stella Anna</td>\n",
              "      <td>woman</td>\n",
              "      <td>Sage-3-CA. 234-69.55-S</td>\n",
              "    </tr>\n",
              "    <tr>\n",
              "      <th>846</th>\n",
              "      <td>847</td>\n",
              "      <td>0.0</td>\n",
              "      <td>NaN</td>\n",
              "      <td>Sage, Mr. Douglas Bullen</td>\n",
              "      <td>man</td>\n",
              "      <td>noGroup</td>\n",
              "    </tr>\n",
              "    <tr>\n",
              "      <th>863</th>\n",
              "      <td>864</td>\n",
              "      <td>0.0</td>\n",
              "      <td>0.0</td>\n",
              "      <td>Sage, Miss. Dorothy Edith \"Dolly\"</td>\n",
              "      <td>woman</td>\n",
              "      <td>Sage-3-CA. 234-69.55-S</td>\n",
              "    </tr>\n",
              "    <tr>\n",
              "      <th>1079</th>\n",
              "      <td>1080</td>\n",
              "      <td>NaN</td>\n",
              "      <td>0.0</td>\n",
              "      <td>Sage, Miss. Ada</td>\n",
              "      <td>woman</td>\n",
              "      <td>Sage-3-CA. 234-69.55-S</td>\n",
              "    </tr>\n",
              "    <tr>\n",
              "      <th>1233</th>\n",
              "      <td>1234</td>\n",
              "      <td>NaN</td>\n",
              "      <td>NaN</td>\n",
              "      <td>Sage, Mr. John George</td>\n",
              "      <td>man</td>\n",
              "      <td>noGroup</td>\n",
              "    </tr>\n",
              "    <tr>\n",
              "      <th>1251</th>\n",
              "      <td>1252</td>\n",
              "      <td>NaN</td>\n",
              "      <td>0.0</td>\n",
              "      <td>Sage, Master. William Henry</td>\n",
              "      <td>boy</td>\n",
              "      <td>Sage-3-CA. 234-69.55-S</td>\n",
              "    </tr>\n",
              "    <tr>\n",
              "      <th>1256</th>\n",
              "      <td>1257</td>\n",
              "      <td>NaN</td>\n",
              "      <td>0.0</td>\n",
              "      <td>Sage, Mrs. John (Annie Bullen)</td>\n",
              "      <td>woman</td>\n",
              "      <td>Sage-3-CA. 234-69.55-S</td>\n",
              "    </tr>\n",
              "  </tbody>\n",
              "</table>\n",
              "</div>"
            ],
            "text/plain": [
              "      PassengerId  Survived  ...  Title                Group_id\n",
              "159           160       0.0  ...    boy  Sage-3-CA. 234-69.55-S\n",
              "180           181       0.0  ...  woman  Sage-3-CA. 234-69.55-S\n",
              "201           202       0.0  ...    man                 noGroup\n",
              "324           325       0.0  ...    man                 noGroup\n",
              "792           793       0.0  ...  woman  Sage-3-CA. 234-69.55-S\n",
              "846           847       0.0  ...    man                 noGroup\n",
              "863           864       0.0  ...  woman  Sage-3-CA. 234-69.55-S\n",
              "1079         1080       NaN  ...  woman  Sage-3-CA. 234-69.55-S\n",
              "1233         1234       NaN  ...    man                 noGroup\n",
              "1251         1252       NaN  ...    boy  Sage-3-CA. 234-69.55-S\n",
              "1256         1257       NaN  ...  woman  Sage-3-CA. 234-69.55-S\n",
              "\n",
              "[11 rows x 6 columns]"
            ]
          },
          "metadata": {
            "tags": []
          },
          "execution_count": 24
        }
      ]
    },
    {
      "cell_type": "markdown",
      "metadata": {
        "papermill": {
          "duration": 0.023996,
          "end_time": "2020-09-01T14:07:49.275919",
          "exception": false,
          "start_time": "2020-09-01T14:07:49.251923",
          "status": "completed"
        },
        "tags": [],
        "id": "y5YmjpCO_QzY"
      },
      "source": [
        "この時点で`WCSurvived`が`Survived`を当てれてる感がある。"
      ]
    },
    {
      "cell_type": "code",
      "metadata": {
        "id": "aqJstBa6ZOIv",
        "outputId": "c66871a8-065b-4b10-9376-41077c3fe252",
        "colab": {
          "base_uri": "https://localhost:8080/",
          "height": 104
        }
      },
      "source": [
        "data['WCSurvived'].value_counts()"
      ],
      "execution_count": null,
      "outputs": [
        {
          "output_type": "execute_result",
          "data": {
            "text/plain": [
              "1.00    134\n",
              "0.00     76\n",
              "0.75      6\n",
              "0.50      5\n",
              "Name: WCSurvived, dtype: int64"
            ]
          },
          "metadata": {
            "tags": []
          },
          "execution_count": 25
        }
      ]
    },
    {
      "cell_type": "code",
      "metadata": {
        "_kg_hide-input": true,
        "execution": {
          "iopub.execute_input": "2020-09-01T14:07:49.330110Z",
          "iopub.status.busy": "2020-09-01T14:07:49.329097Z",
          "iopub.status.idle": "2020-09-01T14:07:49.627703Z",
          "shell.execute_reply": "2020-09-01T14:07:49.628328Z"
        },
        "papermill": {
          "duration": 0.328727,
          "end_time": "2020-09-01T14:07:49.628484",
          "exception": false,
          "start_time": "2020-09-01T14:07:49.299757",
          "status": "completed"
        },
        "tags": [],
        "id": "Iyt3Zvja_QzY",
        "outputId": "a30e4097-7f8e-4062-ef52-fc74673d8f6e",
        "colab": {
          "base_uri": "https://localhost:8080/",
          "height": 421
        }
      },
      "source": [
        "print('WCSurvived all data values:')\n",
        "print(data.WCSurvived.value_counts().to_string())\n",
        "plt.figure(figsize=(7,5))\n",
        "f = sns.countplot(y=data.WCSurvived)"
      ],
      "execution_count": null,
      "outputs": [
        {
          "output_type": "stream",
          "text": [
            "WCSurvived all data values:\n",
            "1.00    134\n",
            "0.00     76\n",
            "0.75      6\n",
            "0.50      5\n"
          ],
          "name": "stdout"
        },
        {
          "output_type": "display_data",
          "data": {
            "image/png": "[encoded data removed]",
            "text/plain": [
              "<Figure size 504x360 with 1 Axes>"
            ]
          },
          "metadata": {
            "tags": []
          }
        }
      ]
    },
    {
      "cell_type": "code",
      "metadata": {
        "id": "z4Wj0tGraTQD",
        "outputId": "eddb4b8e-8f2f-4036-8a8e-e1996089e297",
        "colab": {
          "base_uri": "https://localhost:8080/",
          "height": 651
        }
      },
      "source": [
        "data[data['WCSurvived']==0.75]"
      ],
      "execution_count": null,
      "outputs": [
        {
          "output_type": "execute_result",
          "data": {
            "text/html": [
              "<div>\n",
              "<style scoped>\n",
              "    .dataframe tbody tr th:only-of-type {\n",
              "        vertical-align: middle;\n",
              "    }\n",
              "\n",
              "    .dataframe tbody tr th {\n",
              "        vertical-align: top;\n",
              "    }\n",
              "\n",
              "    .dataframe thead th {\n",
              "        text-align: right;\n",
              "    }\n",
              "</style>\n",
              "<table border=\"1\" class=\"dataframe\">\n",
              "  <thead>\n",
              "    <tr style=\"text-align: right;\">\n",
              "      <th></th>\n",
              "      <th>PassengerId</th>\n",
              "      <th>Pclass</th>\n",
              "      <th>Name</th>\n",
              "      <th>Sex</th>\n",
              "      <th>Age</th>\n",
              "      <th>SibSp</th>\n",
              "      <th>Parch</th>\n",
              "      <th>Ticket</th>\n",
              "      <th>Fare</th>\n",
              "      <th>Cabin</th>\n",
              "      <th>Embarked</th>\n",
              "      <th>Survived</th>\n",
              "      <th>Surname</th>\n",
              "      <th>Ticket_id</th>\n",
              "      <th>Group_id</th>\n",
              "      <th>Title</th>\n",
              "      <th>WC_count</th>\n",
              "      <th>WCSurvived</th>\n",
              "    </tr>\n",
              "  </thead>\n",
              "  <tbody>\n",
              "    <tr>\n",
              "      <th>25</th>\n",
              "      <td>26</td>\n",
              "      <td>3</td>\n",
              "      <td>Asplund, Mrs. Carl Oscar (Selma Augusta Emilia...</td>\n",
              "      <td>female</td>\n",
              "      <td>38.0</td>\n",
              "      <td>1</td>\n",
              "      <td>5</td>\n",
              "      <td>347077</td>\n",
              "      <td>31.3875</td>\n",
              "      <td>NaN</td>\n",
              "      <td>S</td>\n",
              "      <td>1.0</td>\n",
              "      <td>Asplund</td>\n",
              "      <td>3-34707-31.3875-S</td>\n",
              "      <td>Asplund-3-34707-31.3875-S</td>\n",
              "      <td>woman</td>\n",
              "      <td>6.0</td>\n",
              "      <td>0.75</td>\n",
              "    </tr>\n",
              "    <tr>\n",
              "      <th>182</th>\n",
              "      <td>183</td>\n",
              "      <td>3</td>\n",
              "      <td>Asplund, Master. Clarence Gustaf Hugo</td>\n",
              "      <td>male</td>\n",
              "      <td>9.0</td>\n",
              "      <td>4</td>\n",
              "      <td>2</td>\n",
              "      <td>347077</td>\n",
              "      <td>31.3875</td>\n",
              "      <td>NaN</td>\n",
              "      <td>S</td>\n",
              "      <td>0.0</td>\n",
              "      <td>Asplund</td>\n",
              "      <td>3-34707-31.3875-S</td>\n",
              "      <td>Asplund-3-34707-31.3875-S</td>\n",
              "      <td>boy</td>\n",
              "      <td>6.0</td>\n",
              "      <td>0.75</td>\n",
              "    </tr>\n",
              "    <tr>\n",
              "      <th>233</th>\n",
              "      <td>234</td>\n",
              "      <td>3</td>\n",
              "      <td>Asplund, Miss. Lillian Gertrud</td>\n",
              "      <td>female</td>\n",
              "      <td>5.0</td>\n",
              "      <td>4</td>\n",
              "      <td>2</td>\n",
              "      <td>347077</td>\n",
              "      <td>31.3875</td>\n",
              "      <td>NaN</td>\n",
              "      <td>S</td>\n",
              "      <td>1.0</td>\n",
              "      <td>Asplund</td>\n",
              "      <td>3-34707-31.3875-S</td>\n",
              "      <td>Asplund-3-34707-31.3875-S</td>\n",
              "      <td>woman</td>\n",
              "      <td>6.0</td>\n",
              "      <td>0.75</td>\n",
              "    </tr>\n",
              "    <tr>\n",
              "      <th>261</th>\n",
              "      <td>262</td>\n",
              "      <td>3</td>\n",
              "      <td>Asplund, Master. Edvin Rojj Felix</td>\n",
              "      <td>male</td>\n",
              "      <td>3.0</td>\n",
              "      <td>4</td>\n",
              "      <td>2</td>\n",
              "      <td>347077</td>\n",
              "      <td>31.3875</td>\n",
              "      <td>NaN</td>\n",
              "      <td>S</td>\n",
              "      <td>1.0</td>\n",
              "      <td>Asplund</td>\n",
              "      <td>3-34707-31.3875-S</td>\n",
              "      <td>Asplund-3-34707-31.3875-S</td>\n",
              "      <td>boy</td>\n",
              "      <td>6.0</td>\n",
              "      <td>0.75</td>\n",
              "    </tr>\n",
              "    <tr>\n",
              "      <th>1045</th>\n",
              "      <td>1046</td>\n",
              "      <td>3</td>\n",
              "      <td>Asplund, Master. Filip Oscar</td>\n",
              "      <td>male</td>\n",
              "      <td>13.0</td>\n",
              "      <td>4</td>\n",
              "      <td>2</td>\n",
              "      <td>347077</td>\n",
              "      <td>31.3875</td>\n",
              "      <td>NaN</td>\n",
              "      <td>S</td>\n",
              "      <td>NaN</td>\n",
              "      <td>Asplund</td>\n",
              "      <td>3-34707-31.3875-S</td>\n",
              "      <td>Asplund-3-34707-31.3875-S</td>\n",
              "      <td>boy</td>\n",
              "      <td>6.0</td>\n",
              "      <td>0.75</td>\n",
              "    </tr>\n",
              "    <tr>\n",
              "      <th>1270</th>\n",
              "      <td>1271</td>\n",
              "      <td>3</td>\n",
              "      <td>Asplund, Master. Carl Edgar</td>\n",
              "      <td>male</td>\n",
              "      <td>5.0</td>\n",
              "      <td>4</td>\n",
              "      <td>2</td>\n",
              "      <td>347077</td>\n",
              "      <td>31.3875</td>\n",
              "      <td>NaN</td>\n",
              "      <td>S</td>\n",
              "      <td>NaN</td>\n",
              "      <td>Asplund</td>\n",
              "      <td>3-34707-31.3875-S</td>\n",
              "      <td>Asplund-3-34707-31.3875-S</td>\n",
              "      <td>boy</td>\n",
              "      <td>6.0</td>\n",
              "      <td>0.75</td>\n",
              "    </tr>\n",
              "  </tbody>\n",
              "</table>\n",
              "</div>"
            ],
            "text/plain": [
              "      PassengerId  Pclass  ... WC_count WCSurvived\n",
              "25             26       3  ...      6.0       0.75\n",
              "182           183       3  ...      6.0       0.75\n",
              "233           234       3  ...      6.0       0.75\n",
              "261           262       3  ...      6.0       0.75\n",
              "1045         1046       3  ...      6.0       0.75\n",
              "1270         1271       3  ...      6.0       0.75\n",
              "\n",
              "[6 rows x 18 columns]"
            ]
          },
          "metadata": {
            "tags": []
          },
          "execution_count": 27
        }
      ]
    },
    {
      "cell_type": "code",
      "metadata": {
        "id": "Sk4HUoLDaVsm",
        "outputId": "22318315-e292-42db-f6b5-2ab4bfef1e35",
        "colab": {
          "base_uri": "https://localhost:8080/",
          "height": 499
        }
      },
      "source": [
        "data[data['WCSurvived']==0.50]"
      ],
      "execution_count": null,
      "outputs": [
        {
          "output_type": "execute_result",
          "data": {
            "text/html": [
              "<div>\n",
              "<style scoped>\n",
              "    .dataframe tbody tr th:only-of-type {\n",
              "        vertical-align: middle;\n",
              "    }\n",
              "\n",
              "    .dataframe tbody tr th {\n",
              "        vertical-align: top;\n",
              "    }\n",
              "\n",
              "    .dataframe thead th {\n",
              "        text-align: right;\n",
              "    }\n",
              "</style>\n",
              "<table border=\"1\" class=\"dataframe\">\n",
              "  <thead>\n",
              "    <tr style=\"text-align: right;\">\n",
              "      <th></th>\n",
              "      <th>PassengerId</th>\n",
              "      <th>Pclass</th>\n",
              "      <th>Name</th>\n",
              "      <th>Sex</th>\n",
              "      <th>Age</th>\n",
              "      <th>SibSp</th>\n",
              "      <th>Parch</th>\n",
              "      <th>Ticket</th>\n",
              "      <th>Fare</th>\n",
              "      <th>Cabin</th>\n",
              "      <th>Embarked</th>\n",
              "      <th>Survived</th>\n",
              "      <th>Surname</th>\n",
              "      <th>Ticket_id</th>\n",
              "      <th>Group_id</th>\n",
              "      <th>Title</th>\n",
              "      <th>WC_count</th>\n",
              "      <th>WCSurvived</th>\n",
              "    </tr>\n",
              "  </thead>\n",
              "  <tbody>\n",
              "    <tr>\n",
              "      <th>297</th>\n",
              "      <td>298</td>\n",
              "      <td>1</td>\n",
              "      <td>Allison, Miss. Helen Loraine</td>\n",
              "      <td>female</td>\n",
              "      <td>2.00</td>\n",
              "      <td>1</td>\n",
              "      <td>2</td>\n",
              "      <td>113781</td>\n",
              "      <td>151.55</td>\n",
              "      <td>C22 C26</td>\n",
              "      <td>S</td>\n",
              "      <td>0.0</td>\n",
              "      <td>Allison</td>\n",
              "      <td>1-11378-151.55-S</td>\n",
              "      <td>Allison-1-11378-151.55-S</td>\n",
              "      <td>woman</td>\n",
              "      <td>3.0</td>\n",
              "      <td>0.5</td>\n",
              "    </tr>\n",
              "    <tr>\n",
              "      <th>305</th>\n",
              "      <td>306</td>\n",
              "      <td>1</td>\n",
              "      <td>Allison, Master. Hudson Trevor</td>\n",
              "      <td>male</td>\n",
              "      <td>0.92</td>\n",
              "      <td>1</td>\n",
              "      <td>2</td>\n",
              "      <td>113781</td>\n",
              "      <td>151.55</td>\n",
              "      <td>C22 C26</td>\n",
              "      <td>S</td>\n",
              "      <td>1.0</td>\n",
              "      <td>Allison</td>\n",
              "      <td>1-11378-151.55-S</td>\n",
              "      <td>Allison-1-11378-151.55-S</td>\n",
              "      <td>boy</td>\n",
              "      <td>3.0</td>\n",
              "      <td>0.5</td>\n",
              "    </tr>\n",
              "    <tr>\n",
              "      <th>498</th>\n",
              "      <td>499</td>\n",
              "      <td>1</td>\n",
              "      <td>Allison, Mrs. Hudson J C (Bessie Waldo Daniels)</td>\n",
              "      <td>female</td>\n",
              "      <td>25.00</td>\n",
              "      <td>1</td>\n",
              "      <td>2</td>\n",
              "      <td>113781</td>\n",
              "      <td>151.55</td>\n",
              "      <td>C22 C26</td>\n",
              "      <td>S</td>\n",
              "      <td>0.0</td>\n",
              "      <td>Allison</td>\n",
              "      <td>1-11378-151.55-S</td>\n",
              "      <td>Allison-1-11378-151.55-S</td>\n",
              "      <td>woman</td>\n",
              "      <td>3.0</td>\n",
              "      <td>0.5</td>\n",
              "    </tr>\n",
              "    <tr>\n",
              "      <th>708</th>\n",
              "      <td>709</td>\n",
              "      <td>1</td>\n",
              "      <td>Cleaver, Miss. Alice</td>\n",
              "      <td>female</td>\n",
              "      <td>22.00</td>\n",
              "      <td>0</td>\n",
              "      <td>0</td>\n",
              "      <td>113781</td>\n",
              "      <td>151.55</td>\n",
              "      <td>NaN</td>\n",
              "      <td>S</td>\n",
              "      <td>1.0</td>\n",
              "      <td>Cleaver</td>\n",
              "      <td>1-11378-151.55-S</td>\n",
              "      <td>Allison-1-11378-151.55-S</td>\n",
              "      <td>woman</td>\n",
              "      <td>1.0</td>\n",
              "      <td>0.5</td>\n",
              "    </tr>\n",
              "    <tr>\n",
              "      <th>1032</th>\n",
              "      <td>1033</td>\n",
              "      <td>1</td>\n",
              "      <td>Daniels, Miss. Sarah</td>\n",
              "      <td>female</td>\n",
              "      <td>33.00</td>\n",
              "      <td>0</td>\n",
              "      <td>0</td>\n",
              "      <td>113781</td>\n",
              "      <td>151.55</td>\n",
              "      <td>NaN</td>\n",
              "      <td>S</td>\n",
              "      <td>NaN</td>\n",
              "      <td>Daniels</td>\n",
              "      <td>1-11378-151.55-S</td>\n",
              "      <td>Allison-1-11378-151.55-S</td>\n",
              "      <td>woman</td>\n",
              "      <td>1.0</td>\n",
              "      <td>0.5</td>\n",
              "    </tr>\n",
              "  </tbody>\n",
              "</table>\n",
              "</div>"
            ],
            "text/plain": [
              "      PassengerId  Pclass  ... WC_count WCSurvived\n",
              "297           298       1  ...      3.0        0.5\n",
              "305           306       1  ...      3.0        0.5\n",
              "498           499       1  ...      3.0        0.5\n",
              "708           709       1  ...      1.0        0.5\n",
              "1032         1033       1  ...      1.0        0.5\n",
              "\n",
              "[5 rows x 18 columns]"
            ]
          },
          "metadata": {
            "tags": []
          },
          "execution_count": 28
        }
      ]
    },
    {
      "cell_type": "markdown",
      "metadata": {
        "papermill": {
          "duration": 0.023942,
          "end_time": "2020-09-01T14:07:49.677544",
          "exception": false,
          "start_time": "2020-09-01T14:07:49.653602",
          "status": "completed"
        },
        "tags": [],
        "id": "gkw_qoB__Qzb"
      },
      "source": [
        "グループにより死亡の予測が使えそう。\n",
        "非整数の `WCSurvived` 値を持つのは11人だけで AllisonsとAsplunds家?です。 \n",
        "彼らのほとんどが訓練データに含まれていることがわかりますので、テストセットの中で唯一の3人については、ジェンダーモデルを使用して、最善を期待します。 "
      ]
    },
    {
      "cell_type": "code",
      "metadata": {
        "_kg_hide-input": true,
        "execution": {
          "iopub.execute_input": "2020-09-01T14:07:49.730642Z",
          "iopub.status.busy": "2020-09-01T14:07:49.729626Z",
          "iopub.status.idle": "2020-09-01T14:07:49.748987Z",
          "shell.execute_reply": "2020-09-01T14:07:49.749465Z"
        },
        "papermill": {
          "duration": 0.047625,
          "end_time": "2020-09-01T14:07:49.749613",
          "exception": false,
          "start_time": "2020-09-01T14:07:49.701988",
          "status": "completed"
        },
        "tags": [],
        "id": "PirIAV0g_Qzb",
        "outputId": "8e008838-71e8-4810-f05e-0cefb0a552f3",
        "colab": {
          "base_uri": "https://localhost:8080/",
          "height": 386
        }
      },
      "source": [
        "data.loc[(data.WCSurvived==0.75) | (data.WCSurvived==0.5), cols].sort_values(by='Group_id')"
      ],
      "execution_count": null,
      "outputs": [
        {
          "output_type": "execute_result",
          "data": {
            "text/html": [
              "<div>\n",
              "<style scoped>\n",
              "    .dataframe tbody tr th:only-of-type {\n",
              "        vertical-align: middle;\n",
              "    }\n",
              "\n",
              "    .dataframe tbody tr th {\n",
              "        vertical-align: top;\n",
              "    }\n",
              "\n",
              "    .dataframe thead th {\n",
              "        text-align: right;\n",
              "    }\n",
              "</style>\n",
              "<table border=\"1\" class=\"dataframe\">\n",
              "  <thead>\n",
              "    <tr style=\"text-align: right;\">\n",
              "      <th></th>\n",
              "      <th>PassengerId</th>\n",
              "      <th>Survived</th>\n",
              "      <th>WCSurvived</th>\n",
              "      <th>Name</th>\n",
              "      <th>Title</th>\n",
              "      <th>Group_id</th>\n",
              "    </tr>\n",
              "  </thead>\n",
              "  <tbody>\n",
              "    <tr>\n",
              "      <th>297</th>\n",
              "      <td>298</td>\n",
              "      <td>0.0</td>\n",
              "      <td>0.50</td>\n",
              "      <td>Allison, Miss. Helen Loraine</td>\n",
              "      <td>woman</td>\n",
              "      <td>Allison-1-11378-151.55-S</td>\n",
              "    </tr>\n",
              "    <tr>\n",
              "      <th>305</th>\n",
              "      <td>306</td>\n",
              "      <td>1.0</td>\n",
              "      <td>0.50</td>\n",
              "      <td>Allison, Master. Hudson Trevor</td>\n",
              "      <td>boy</td>\n",
              "      <td>Allison-1-11378-151.55-S</td>\n",
              "    </tr>\n",
              "    <tr>\n",
              "      <th>498</th>\n",
              "      <td>499</td>\n",
              "      <td>0.0</td>\n",
              "      <td>0.50</td>\n",
              "      <td>Allison, Mrs. Hudson J C (Bessie Waldo Daniels)</td>\n",
              "      <td>woman</td>\n",
              "      <td>Allison-1-11378-151.55-S</td>\n",
              "    </tr>\n",
              "    <tr>\n",
              "      <th>708</th>\n",
              "      <td>709</td>\n",
              "      <td>1.0</td>\n",
              "      <td>0.50</td>\n",
              "      <td>Cleaver, Miss. Alice</td>\n",
              "      <td>woman</td>\n",
              "      <td>Allison-1-11378-151.55-S</td>\n",
              "    </tr>\n",
              "    <tr>\n",
              "      <th>1032</th>\n",
              "      <td>1033</td>\n",
              "      <td>NaN</td>\n",
              "      <td>0.50</td>\n",
              "      <td>Daniels, Miss. Sarah</td>\n",
              "      <td>woman</td>\n",
              "      <td>Allison-1-11378-151.55-S</td>\n",
              "    </tr>\n",
              "    <tr>\n",
              "      <th>25</th>\n",
              "      <td>26</td>\n",
              "      <td>1.0</td>\n",
              "      <td>0.75</td>\n",
              "      <td>Asplund, Mrs. Carl Oscar (Selma Augusta Emilia...</td>\n",
              "      <td>woman</td>\n",
              "      <td>Asplund-3-34707-31.3875-S</td>\n",
              "    </tr>\n",
              "    <tr>\n",
              "      <th>182</th>\n",
              "      <td>183</td>\n",
              "      <td>0.0</td>\n",
              "      <td>0.75</td>\n",
              "      <td>Asplund, Master. Clarence Gustaf Hugo</td>\n",
              "      <td>boy</td>\n",
              "      <td>Asplund-3-34707-31.3875-S</td>\n",
              "    </tr>\n",
              "    <tr>\n",
              "      <th>233</th>\n",
              "      <td>234</td>\n",
              "      <td>1.0</td>\n",
              "      <td>0.75</td>\n",
              "      <td>Asplund, Miss. Lillian Gertrud</td>\n",
              "      <td>woman</td>\n",
              "      <td>Asplund-3-34707-31.3875-S</td>\n",
              "    </tr>\n",
              "    <tr>\n",
              "      <th>261</th>\n",
              "      <td>262</td>\n",
              "      <td>1.0</td>\n",
              "      <td>0.75</td>\n",
              "      <td>Asplund, Master. Edvin Rojj Felix</td>\n",
              "      <td>boy</td>\n",
              "      <td>Asplund-3-34707-31.3875-S</td>\n",
              "    </tr>\n",
              "    <tr>\n",
              "      <th>1045</th>\n",
              "      <td>1046</td>\n",
              "      <td>NaN</td>\n",
              "      <td>0.75</td>\n",
              "      <td>Asplund, Master. Filip Oscar</td>\n",
              "      <td>boy</td>\n",
              "      <td>Asplund-3-34707-31.3875-S</td>\n",
              "    </tr>\n",
              "    <tr>\n",
              "      <th>1270</th>\n",
              "      <td>1271</td>\n",
              "      <td>NaN</td>\n",
              "      <td>0.75</td>\n",
              "      <td>Asplund, Master. Carl Edgar</td>\n",
              "      <td>boy</td>\n",
              "      <td>Asplund-3-34707-31.3875-S</td>\n",
              "    </tr>\n",
              "  </tbody>\n",
              "</table>\n",
              "</div>"
            ],
            "text/plain": [
              "      PassengerId  Survived  ...  Title                   Group_id\n",
              "297           298       0.0  ...  woman   Allison-1-11378-151.55-S\n",
              "305           306       1.0  ...    boy   Allison-1-11378-151.55-S\n",
              "498           499       0.0  ...  woman   Allison-1-11378-151.55-S\n",
              "708           709       1.0  ...  woman   Allison-1-11378-151.55-S\n",
              "1032         1033       NaN  ...  woman   Allison-1-11378-151.55-S\n",
              "25             26       1.0  ...  woman  Asplund-3-34707-31.3875-S\n",
              "182           183       0.0  ...    boy  Asplund-3-34707-31.3875-S\n",
              "233           234       1.0  ...  woman  Asplund-3-34707-31.3875-S\n",
              "261           262       1.0  ...    boy  Asplund-3-34707-31.3875-S\n",
              "1045         1046       NaN  ...    boy  Asplund-3-34707-31.3875-S\n",
              "1270         1271       NaN  ...    boy  Asplund-3-34707-31.3875-S\n",
              "\n",
              "[11 rows x 6 columns]"
            ]
          },
          "metadata": {
            "tags": []
          },
          "execution_count": 29
        }
      ]
    },
    {
      "cell_type": "markdown",
      "metadata": {
        "papermill": {
          "duration": 0.024874,
          "end_time": "2020-09-01T14:07:49.799760",
          "exception": false,
          "start_time": "2020-09-01T14:07:49.774886",
          "status": "completed"
        },
        "tags": [],
        "id": "QGBkxkrB_Qze"
      },
      "source": [
        "テストデータの中には、全構成員がいる家族群があるので 、それらは未知の家族の生存率を持っているものも家族のすべての構成要素が我々のWCGに従うとして"
      ]
    },
    {
      "cell_type": "code",
      "metadata": {
        "execution": {
          "iopub.execute_input": "2020-09-01T14:07:49.857919Z",
          "iopub.status.busy": "2020-09-01T14:07:49.856851Z",
          "iopub.status.idle": "2020-09-01T14:07:49.871881Z",
          "shell.execute_reply": "2020-09-01T14:07:49.872457Z"
        },
        "papermill": {
          "duration": 0.047595,
          "end_time": "2020-09-01T14:07:49.872597",
          "exception": false,
          "start_time": "2020-09-01T14:07:49.825002",
          "status": "completed"
        },
        "tags": [],
        "id": "o3v9g4AY_Qzf",
        "outputId": "72eaf091-5f05-405c-fd25-9c27f41e05ab",
        "colab": {
          "base_uri": "https://localhost:8080/",
          "height": 325
        }
      },
      "source": [
        "# Get the family names using set difference\n",
        "test_groups = set(data[891:1309].Group_id.unique()) - set(data[0:891].Group_id.unique())\n",
        "data.loc[data.Group_id.isin(test_groups), cols].sort_values(by='Group_id')"
      ],
      "execution_count": null,
      "outputs": [
        {
          "output_type": "execute_result",
          "data": {
            "text/html": [
              "<div>\n",
              "<style scoped>\n",
              "    .dataframe tbody tr th:only-of-type {\n",
              "        vertical-align: middle;\n",
              "    }\n",
              "\n",
              "    .dataframe tbody tr th {\n",
              "        vertical-align: top;\n",
              "    }\n",
              "\n",
              "    .dataframe thead th {\n",
              "        text-align: right;\n",
              "    }\n",
              "</style>\n",
              "<table border=\"1\" class=\"dataframe\">\n",
              "  <thead>\n",
              "    <tr style=\"text-align: right;\">\n",
              "      <th></th>\n",
              "      <th>PassengerId</th>\n",
              "      <th>Survived</th>\n",
              "      <th>WCSurvived</th>\n",
              "      <th>Name</th>\n",
              "      <th>Title</th>\n",
              "      <th>Group_id</th>\n",
              "    </tr>\n",
              "  </thead>\n",
              "  <tbody>\n",
              "    <tr>\n",
              "      <th>1259</th>\n",
              "      <td>1260</td>\n",
              "      <td>NaN</td>\n",
              "      <td>NaN</td>\n",
              "      <td>Gibson, Mrs. Leonard (Pauline C Boeson)</td>\n",
              "      <td>woman</td>\n",
              "      <td>Gibson-1-11237-59.4-C</td>\n",
              "    </tr>\n",
              "    <tr>\n",
              "      <th>1293</th>\n",
              "      <td>1294</td>\n",
              "      <td>NaN</td>\n",
              "      <td>NaN</td>\n",
              "      <td>Gibson, Miss. Dorothy Winifred</td>\n",
              "      <td>woman</td>\n",
              "      <td>Gibson-1-11237-59.4-C</td>\n",
              "    </tr>\n",
              "    <tr>\n",
              "      <th>1044</th>\n",
              "      <td>1045</td>\n",
              "      <td>NaN</td>\n",
              "      <td>NaN</td>\n",
              "      <td>Klasen, Mrs. (Hulda Kristina Eugenia Lofqvist)</td>\n",
              "      <td>woman</td>\n",
              "      <td>Klasen-3-35040-12.1833-S</td>\n",
              "    </tr>\n",
              "    <tr>\n",
              "      <th>1154</th>\n",
              "      <td>1155</td>\n",
              "      <td>NaN</td>\n",
              "      <td>NaN</td>\n",
              "      <td>Klasen, Miss. Gertrud Emilia</td>\n",
              "      <td>woman</td>\n",
              "      <td>Klasen-3-35040-12.1833-S</td>\n",
              "    </tr>\n",
              "    <tr>\n",
              "      <th>1050</th>\n",
              "      <td>1051</td>\n",
              "      <td>NaN</td>\n",
              "      <td>NaN</td>\n",
              "      <td>Peacock, Mrs. Benjamin (Edith Nile)</td>\n",
              "      <td>woman</td>\n",
              "      <td>Peacock-3-SOTON/O.Q. 310131-13.775-S</td>\n",
              "    </tr>\n",
              "    <tr>\n",
              "      <th>1172</th>\n",
              "      <td>1173</td>\n",
              "      <td>NaN</td>\n",
              "      <td>NaN</td>\n",
              "      <td>Peacock, Master. Alfred Edward</td>\n",
              "      <td>boy</td>\n",
              "      <td>Peacock-3-SOTON/O.Q. 310131-13.775-S</td>\n",
              "    </tr>\n",
              "    <tr>\n",
              "      <th>1300</th>\n",
              "      <td>1301</td>\n",
              "      <td>NaN</td>\n",
              "      <td>NaN</td>\n",
              "      <td>Peacock, Miss. Treasteall</td>\n",
              "      <td>woman</td>\n",
              "      <td>Peacock-3-SOTON/O.Q. 310131-13.775-S</td>\n",
              "    </tr>\n",
              "    <tr>\n",
              "      <th>1083</th>\n",
              "      <td>1084</td>\n",
              "      <td>NaN</td>\n",
              "      <td>NaN</td>\n",
              "      <td>van Billiard, Master. Walter John</td>\n",
              "      <td>boy</td>\n",
              "      <td>van Billiard-3-A/5. 85-14.5-S</td>\n",
              "    </tr>\n",
              "    <tr>\n",
              "      <th>1235</th>\n",
              "      <td>1236</td>\n",
              "      <td>NaN</td>\n",
              "      <td>NaN</td>\n",
              "      <td>van Billiard, Master. James William</td>\n",
              "      <td>boy</td>\n",
              "      <td>van Billiard-3-A/5. 85-14.5-S</td>\n",
              "    </tr>\n",
              "  </tbody>\n",
              "</table>\n",
              "</div>"
            ],
            "text/plain": [
              "      PassengerId  Survived  ...  Title                              Group_id\n",
              "1259         1260       NaN  ...  woman                 Gibson-1-11237-59.4-C\n",
              "1293         1294       NaN  ...  woman                 Gibson-1-11237-59.4-C\n",
              "1044         1045       NaN  ...  woman              Klasen-3-35040-12.1833-S\n",
              "1154         1155       NaN  ...  woman              Klasen-3-35040-12.1833-S\n",
              "1050         1051       NaN  ...  woman  Peacock-3-SOTON/O.Q. 310131-13.775-S\n",
              "1172         1173       NaN  ...    boy  Peacock-3-SOTON/O.Q. 310131-13.775-S\n",
              "1300         1301       NaN  ...  woman  Peacock-3-SOTON/O.Q. 310131-13.775-S\n",
              "1083         1084       NaN  ...    boy         van Billiard-3-A/5. 85-14.5-S\n",
              "1235         1236       NaN  ...    boy         van Billiard-3-A/5. 85-14.5-S\n",
              "\n",
              "[9 rows x 6 columns]"
            ]
          },
          "metadata": {
            "tags": []
          },
          "execution_count": 30
        }
      ]
    },
    {
      "cell_type": "markdown",
      "metadata": {
        "papermill": {
          "duration": 0.02511,
          "end_time": "2020-09-01T14:07:49.922939",
          "exception": false,
          "start_time": "2020-09-01T14:07:49.897829",
          "status": "completed"
        },
        "tags": [],
        "id": "UVnFlSmF_Qzj"
      },
      "source": [
        "これらの家族は Gibson家、\tKlasen家、Peacock家、van Billiard家である。\n",
        "\n",
        "\n",
        "\n",
        "彼らを予測する必要があるので、どの女子供グループが生きるのか死ぬのかを決める。\n"
      ]
    },
    {
      "cell_type": "code",
      "metadata": {
        "_kg_hide-input": true,
        "execution": {
          "iopub.execute_input": "2020-09-01T14:07:49.987607Z",
          "iopub.status.busy": "2020-09-01T14:07:49.986896Z",
          "iopub.status.idle": "2020-09-01T14:07:50.480351Z",
          "shell.execute_reply": "2020-09-01T14:07:50.480833Z"
        },
        "papermill": {
          "duration": 0.532349,
          "end_time": "2020-09-01T14:07:50.480980",
          "exception": false,
          "start_time": "2020-09-01T14:07:49.948631",
          "status": "completed"
        },
        "tags": [],
        "id": "G_EVDnmY_Qzj",
        "outputId": "1d5e5524-7212-43b8-bb27-977c3157f7b6",
        "colab": {
          "base_uri": "https://localhost:8080/",
          "height": 431
        }
      },
      "source": [
        "fig, ax = plt.subplots(1,2,figsize=(12,6))\n",
        "fig.suptitle('Woman-child-groups analysis', fontsize=14)\n",
        "a = sns.barplot(x='Pclass', y='Survived', data=data[data.Group_id != 'noGroup'], ax=ax[0]).set_ylabel('Survival rate')\n",
        "b = sns.barplot(x='Embarked', y='Survived', data=data[data.Group_id != 'noGroup'], ax=ax[1]).set_ylabel('Survival rate')"
      ],
      "execution_count": null,
      "outputs": [
        {
          "output_type": "display_data",
          "data": {
            "image/png": "[encoded data removed]",
            "text/plain": [
              "<Figure size 864x432 with 2 Axes>"
            ]
          },
          "metadata": {
            "tags": []
          }
        }
      ]
    },
    {
      "cell_type": "markdown",
      "metadata": {
        "papermill": {
          "duration": 0.024959,
          "end_time": "2020-09-01T14:07:50.530959",
          "exception": false,
          "start_time": "2020-09-01T14:07:50.506000",
          "status": "completed"
        },
        "tags": [],
        "id": "4wRrmP0K_Qzm"
      },
      "source": [
        "`Pclass` 1か2で旅をしていた女性の子供グループはほとんどが生き残り、`Pclass` 3で旅をしていた女性の子供グループはほとんど死んでいる。\n",
        "Gibson家は `Pclass` 1 と `Embarked` C、Klasen家、Peacock家、van Billiard家は `Pclass` 3 と `Embarked` Sを持っていたので、Gibson家は生き残り、他の3つの家族は死亡したと仮定するのが最善の方法である。\n",
        "\n"
      ]
    },
    {
      "cell_type": "code",
      "metadata": {
        "execution": {
          "iopub.execute_input": "2020-09-01T14:07:50.585136Z",
          "iopub.status.busy": "2020-09-01T14:07:50.584516Z",
          "iopub.status.idle": "2020-09-01T14:07:50.591634Z",
          "shell.execute_reply": "2020-09-01T14:07:50.592210Z"
        },
        "papermill": {
          "duration": 0.035785,
          "end_time": "2020-09-01T14:07:50.592372",
          "exception": false,
          "start_time": "2020-09-01T14:07:50.556587",
          "status": "completed"
        },
        "tags": [],
        "id": "yA3ZePKZ_Qzm"
      },
      "source": [
        "# Assign WCSurvived = 0 to 3rd class test families, else 1\n",
        "data.loc[data.Group_id.isin(test_groups), 'WCSurvived'] = 0\n",
        "data.loc[(data.Group_id.isin(test_groups)) & (data.Pclass != 3), 'WCSurvived'] = 1"
      ],
      "execution_count": null,
      "outputs": []
    },
    {
      "cell_type": "markdown",
      "metadata": {
        "papermill": {
          "duration": 0.025258,
          "end_time": "2020-09-01T14:07:50.643563",
          "exception": false,
          "start_time": "2020-09-01T14:07:50.618305",
          "status": "completed"
        },
        "tags": [],
        "id": "_rb_voV0_Qzo"
      },
      "source": [
        "`WCSurvived` 値によるテストセットの乗客数の合計。"
      ]
    },
    {
      "cell_type": "code",
      "metadata": {
        "_kg_hide-input": true,
        "execution": {
          "iopub.execute_input": "2020-09-01T14:07:50.745467Z",
          "iopub.status.busy": "2020-09-01T14:07:50.744871Z",
          "iopub.status.idle": "2020-09-01T14:07:50.752395Z",
          "shell.execute_reply": "2020-09-01T14:07:50.753243Z"
        },
        "papermill": {
          "duration": 0.082508,
          "end_time": "2020-09-01T14:07:50.753433",
          "exception": false,
          "start_time": "2020-09-01T14:07:50.670925",
          "status": "completed"
        },
        "tags": [],
        "id": "seyRg0qy_Qzp",
        "outputId": "65ec4545-0a6d-4836-e47d-eb6442ddf9d1",
        "colab": {
          "base_uri": "https://localhost:8080/",
          "height": 104
        }
      },
      "source": [
        "print('WCSurvived test values:')\n",
        "print(data[891:1309].WCSurvived.value_counts().to_string())"
      ],
      "execution_count": null,
      "outputs": [
        {
          "output_type": "stream",
          "text": [
            "WCSurvived test values:\n",
            "1.00    47\n",
            "0.00    24\n",
            "0.75     2\n",
            "0.50     1\n"
          ],
          "name": "stdout"
        }
      ]
    },
    {
      "cell_type": "markdown",
      "metadata": {
        "papermill": {
          "duration": 0.024753,
          "end_time": "2020-09-01T14:07:50.803447",
          "exception": false,
          "start_time": "2020-09-01T14:07:50.778694",
          "status": "completed"
        },
        "tags": [],
        "id": "mSKAA5Hf_Qzr"
      },
      "source": [
        "##WCGを今回のコンペの形式に合わせる。\n",
        "テストデータセットには，女性と子供のグループに属する乗客が74人(47+24+2+1)いる． \n",
        "すべての女性が生きている一方で、すべての男性(子供を含む)が死亡することを単純に予測するジェンダーモデルに、以下の2つの予測ルールを適用させる。\n",
        "* 成人した男性を除く家族全員が死亡しているすべての女性について、`WCSurvived`の列が0になるように死亡を予測する。\n",
        "* 成人した男性を除く家族全員が、`WCSurvived`列が1に等しいように、すべての男子が生きていることを予測する。\n"
      ]
    },
    {
      "cell_type": "code",
      "metadata": {
        "execution": {
          "iopub.execute_input": "2020-09-01T14:07:50.870771Z",
          "iopub.status.busy": "2020-09-01T14:07:50.869914Z",
          "iopub.status.idle": "2020-09-01T14:07:50.872735Z",
          "shell.execute_reply": "2020-09-01T14:07:50.872180Z"
        },
        "papermill": {
          "duration": 0.044907,
          "end_time": "2020-09-01T14:07:50.872846",
          "exception": false,
          "start_time": "2020-09-01T14:07:50.827939",
          "status": "completed"
        },
        "tags": [],
        "id": "_LjbMmyN_Qzs"
      },
      "source": [
        "# Set everyone to 0\n",
        "data.loc[891:1308, 'Predict'] = 0\n",
        "# Set women to 1, completing the gender model\n",
        "data.loc[891:1308, 'Predict'][(data.Sex == 'female')] = 1\n",
        "\n",
        "\n",
        "# Change WCG women with WCSurvived=0 to 0\n",
        "data.loc[891:1308,'Predict'][(data.Sex == 'female') & (data['WCSurvived'] == 0)] = 0\n",
        "# Change WCG boys with WCSurvived=1 to 1, completing the WCG + gender model\n",
        "data.loc[891:1308, 'Predict'][(data.Title == 'boy') & (data['WCSurvived'] == 1)] = 1\n",
        "# With this, the three group members with non-integer WCSurvived are not changed from the gender model"
      ],
      "execution_count": null,
      "outputs": []
    },
    {
      "cell_type": "markdown",
      "metadata": {
        "papermill": {
          "duration": 0.024567,
          "end_time": "2020-09-01T14:07:50.922777",
          "exception": false,
          "start_time": "2020-09-01T14:07:50.898210",
          "status": "completed"
        },
        "tags": [],
        "id": "PQnF3Gpx_Qzu"
      },
      "source": [
        "上の予測ルールから、どの乗客が生死を予測されるのか。\n"
      ]
    },
    {
      "cell_type": "code",
      "metadata": {
        "_kg_hide-input": true,
        "execution": {
          "iopub.execute_input": "2020-09-01T14:07:50.984702Z",
          "iopub.status.busy": "2020-09-01T14:07:50.984022Z",
          "iopub.status.idle": "2020-09-01T14:07:50.994336Z",
          "shell.execute_reply": "2020-09-01T14:07:50.993462Z"
        },
        "papermill": {
          "duration": 0.046347,
          "end_time": "2020-09-01T14:07:50.994448",
          "exception": false,
          "start_time": "2020-09-01T14:07:50.948101",
          "status": "completed"
        },
        "tags": [],
        "id": "OXHzH2k__Qzu",
        "outputId": "29c99153-7f43-4178-90cc-001c4845596b",
        "colab": {
          "base_uri": "https://localhost:8080/",
          "height": 311
        }
      },
      "source": [
        "print('The following 8 males are predicted to live:')\n",
        "cols = ['PassengerId', 'Name', 'Title', 'Group_id']\n",
        "data[891:1309][cols].loc[(data.Title == 'boy') & (data.Predict == 1)]"
      ],
      "execution_count": null,
      "outputs": [
        {
          "output_type": "stream",
          "text": [
            "The following 8 males are predicted to live:\n"
          ],
          "name": "stdout"
        },
        {
          "output_type": "execute_result",
          "data": {
            "text/html": [
              "<div>\n",
              "<style scoped>\n",
              "    .dataframe tbody tr th:only-of-type {\n",
              "        vertical-align: middle;\n",
              "    }\n",
              "\n",
              "    .dataframe tbody tr th {\n",
              "        vertical-align: top;\n",
              "    }\n",
              "\n",
              "    .dataframe thead th {\n",
              "        text-align: right;\n",
              "    }\n",
              "</style>\n",
              "<table border=\"1\" class=\"dataframe\">\n",
              "  <thead>\n",
              "    <tr style=\"text-align: right;\">\n",
              "      <th></th>\n",
              "      <th>PassengerId</th>\n",
              "      <th>Name</th>\n",
              "      <th>Title</th>\n",
              "      <th>Group_id</th>\n",
              "    </tr>\n",
              "  </thead>\n",
              "  <tbody>\n",
              "    <tr>\n",
              "      <th>955</th>\n",
              "      <td>956</td>\n",
              "      <td>Ryerson, Master. John Borie</td>\n",
              "      <td>boy</td>\n",
              "      <td>Ryerson-1-PC 1760-262.375-C</td>\n",
              "    </tr>\n",
              "    <tr>\n",
              "      <th>980</th>\n",
              "      <td>981</td>\n",
              "      <td>Wells, Master. Ralph Lester</td>\n",
              "      <td>boy</td>\n",
              "      <td>Wells-2-2910-23.0-S</td>\n",
              "    </tr>\n",
              "    <tr>\n",
              "      <th>1052</th>\n",
              "      <td>1053</td>\n",
              "      <td>Touma, Master. Georges Youssef</td>\n",
              "      <td>boy</td>\n",
              "      <td>Touma-3-265-15.2458-C</td>\n",
              "    </tr>\n",
              "    <tr>\n",
              "      <th>1085</th>\n",
              "      <td>1086</td>\n",
              "      <td>Drew, Master. Marshall Brines</td>\n",
              "      <td>boy</td>\n",
              "      <td>Drew-2-2822-32.5-S</td>\n",
              "    </tr>\n",
              "    <tr>\n",
              "      <th>1087</th>\n",
              "      <td>1088</td>\n",
              "      <td>Spedden, Master. Robert Douglas</td>\n",
              "      <td>boy</td>\n",
              "      <td>Spedden-1-1696-134.5-C</td>\n",
              "    </tr>\n",
              "    <tr>\n",
              "      <th>1198</th>\n",
              "      <td>1199</td>\n",
              "      <td>Aks, Master. Philip Frank</td>\n",
              "      <td>boy</td>\n",
              "      <td>Aks-3-39209-9.35-S</td>\n",
              "    </tr>\n",
              "    <tr>\n",
              "      <th>1283</th>\n",
              "      <td>1284</td>\n",
              "      <td>Abbott, Master. Eugene Joseph</td>\n",
              "      <td>boy</td>\n",
              "      <td>Abbott-3-C.A. 267-20.25-S</td>\n",
              "    </tr>\n",
              "    <tr>\n",
              "      <th>1308</th>\n",
              "      <td>1309</td>\n",
              "      <td>Peter, Master. Michael J</td>\n",
              "      <td>boy</td>\n",
              "      <td>Peter-3-266-22.3583-C</td>\n",
              "    </tr>\n",
              "  </tbody>\n",
              "</table>\n",
              "</div>"
            ],
            "text/plain": [
              "      PassengerId  ...                     Group_id\n",
              "955           956  ...  Ryerson-1-PC 1760-262.375-C\n",
              "980           981  ...          Wells-2-2910-23.0-S\n",
              "1052         1053  ...        Touma-3-265-15.2458-C\n",
              "1085         1086  ...           Drew-2-2822-32.5-S\n",
              "1087         1088  ...       Spedden-1-1696-134.5-C\n",
              "1198         1199  ...           Aks-3-39209-9.35-S\n",
              "1283         1284  ...    Abbott-3-C.A. 267-20.25-S\n",
              "1308         1309  ...        Peter-3-266-22.3583-C\n",
              "\n",
              "[8 rows x 4 columns]"
            ]
          },
          "metadata": {
            "tags": []
          },
          "execution_count": 35
        }
      ]
    },
    {
      "cell_type": "code",
      "metadata": {
        "_kg_hide-input": true,
        "execution": {
          "iopub.execute_input": "2020-09-01T14:07:51.062420Z",
          "iopub.status.busy": "2020-09-01T14:07:51.061627Z",
          "iopub.status.idle": "2020-09-01T14:07:51.066505Z",
          "shell.execute_reply": "2020-09-01T14:07:51.066989Z"
        },
        "papermill": {
          "duration": 0.046759,
          "end_time": "2020-09-01T14:07:51.067119",
          "exception": false,
          "start_time": "2020-09-01T14:07:51.020360",
          "status": "completed"
        },
        "tags": [],
        "id": "z9yE-mh0_Qzx",
        "outputId": "80279996-f694-47de-f900-e98b601f90cc",
        "colab": {
          "base_uri": "https://localhost:8080/",
          "height": 526
        }
      },
      "source": [
        "print('The following 15 females are predicted to die:')\n",
        "data[891:1309][cols].loc[(data.Title == 'woman') & (data.Predict == 0)]"
      ],
      "execution_count": null,
      "outputs": [
        {
          "output_type": "stream",
          "text": [
            "The following 15 females are predicted to die:\n"
          ],
          "name": "stdout"
        },
        {
          "output_type": "execute_result",
          "data": {
            "text/html": [
              "<div>\n",
              "<style scoped>\n",
              "    .dataframe tbody tr th:only-of-type {\n",
              "        vertical-align: middle;\n",
              "    }\n",
              "\n",
              "    .dataframe tbody tr th {\n",
              "        vertical-align: top;\n",
              "    }\n",
              "\n",
              "    .dataframe thead th {\n",
              "        text-align: right;\n",
              "    }\n",
              "</style>\n",
              "<table border=\"1\" class=\"dataframe\">\n",
              "  <thead>\n",
              "    <tr style=\"text-align: right;\">\n",
              "      <th></th>\n",
              "      <th>PassengerId</th>\n",
              "      <th>Name</th>\n",
              "      <th>Title</th>\n",
              "      <th>Group_id</th>\n",
              "    </tr>\n",
              "  </thead>\n",
              "  <tbody>\n",
              "    <tr>\n",
              "      <th>909</th>\n",
              "      <td>910</td>\n",
              "      <td>Ilmakangas, Miss. Ida Livija</td>\n",
              "      <td>woman</td>\n",
              "      <td>Ilmakangas-3-STON/O2. 310127-7.925-S</td>\n",
              "    </tr>\n",
              "    <tr>\n",
              "      <th>924</th>\n",
              "      <td>925</td>\n",
              "      <td>Johnston, Mrs. Andrew G (Elizabeth Lily\" Watson)\"</td>\n",
              "      <td>woman</td>\n",
              "      <td>Johnston-3-W./C. 660-23.45-S</td>\n",
              "    </tr>\n",
              "    <tr>\n",
              "      <th>928</th>\n",
              "      <td>929</td>\n",
              "      <td>Cacic, Miss. Manda</td>\n",
              "      <td>woman</td>\n",
              "      <td>Cacic-3-31508-8.6625-S</td>\n",
              "    </tr>\n",
              "    <tr>\n",
              "      <th>1023</th>\n",
              "      <td>1024</td>\n",
              "      <td>Lefebre, Mrs. Frank (Frances)</td>\n",
              "      <td>woman</td>\n",
              "      <td>Lefebre-3-413-25.4667-S</td>\n",
              "    </tr>\n",
              "    <tr>\n",
              "      <th>1031</th>\n",
              "      <td>1032</td>\n",
              "      <td>Goodwin, Miss. Jessie Allis</td>\n",
              "      <td>woman</td>\n",
              "      <td>Goodwin-3-CA 214-46.9-S</td>\n",
              "    </tr>\n",
              "    <tr>\n",
              "      <th>1044</th>\n",
              "      <td>1045</td>\n",
              "      <td>Klasen, Mrs. (Hulda Kristina Eugenia Lofqvist)</td>\n",
              "      <td>woman</td>\n",
              "      <td>Klasen-3-35040-12.1833-S</td>\n",
              "    </tr>\n",
              "    <tr>\n",
              "      <th>1050</th>\n",
              "      <td>1051</td>\n",
              "      <td>Peacock, Mrs. Benjamin (Edith Nile)</td>\n",
              "      <td>woman</td>\n",
              "      <td>Peacock-3-SOTON/O.Q. 310131-13.775-S</td>\n",
              "    </tr>\n",
              "    <tr>\n",
              "      <th>1079</th>\n",
              "      <td>1080</td>\n",
              "      <td>Sage, Miss. Ada</td>\n",
              "      <td>woman</td>\n",
              "      <td>Sage-3-CA. 234-69.55-S</td>\n",
              "    </tr>\n",
              "    <tr>\n",
              "      <th>1140</th>\n",
              "      <td>1141</td>\n",
              "      <td>Khalil, Mrs. Betros (Zahie Maria\" Elias)\"</td>\n",
              "      <td>woman</td>\n",
              "      <td>Zabour-3-266-14.4542-C</td>\n",
              "    </tr>\n",
              "    <tr>\n",
              "      <th>1154</th>\n",
              "      <td>1155</td>\n",
              "      <td>Klasen, Miss. Gertrud Emilia</td>\n",
              "      <td>woman</td>\n",
              "      <td>Klasen-3-35040-12.1833-S</td>\n",
              "    </tr>\n",
              "    <tr>\n",
              "      <th>1171</th>\n",
              "      <td>1172</td>\n",
              "      <td>Oreskovic, Miss. Jelka</td>\n",
              "      <td>woman</td>\n",
              "      <td>Cacic-3-31508-8.6625-S</td>\n",
              "    </tr>\n",
              "    <tr>\n",
              "      <th>1175</th>\n",
              "      <td>1176</td>\n",
              "      <td>Rosblom, Miss. Salli Helena</td>\n",
              "      <td>woman</td>\n",
              "      <td>Rosblom-3-37012-20.2125-S</td>\n",
              "    </tr>\n",
              "    <tr>\n",
              "      <th>1256</th>\n",
              "      <td>1257</td>\n",
              "      <td>Sage, Mrs. John (Annie Bullen)</td>\n",
              "      <td>woman</td>\n",
              "      <td>Sage-3-CA. 234-69.55-S</td>\n",
              "    </tr>\n",
              "    <tr>\n",
              "      <th>1258</th>\n",
              "      <td>1259</td>\n",
              "      <td>Riihivouri, Miss. Susanna Juhantytar Sanni\"\"</td>\n",
              "      <td>woman</td>\n",
              "      <td>Panula-3-310129-39.6875-S</td>\n",
              "    </tr>\n",
              "    <tr>\n",
              "      <th>1300</th>\n",
              "      <td>1301</td>\n",
              "      <td>Peacock, Miss. Treasteall</td>\n",
              "      <td>woman</td>\n",
              "      <td>Peacock-3-SOTON/O.Q. 310131-13.775-S</td>\n",
              "    </tr>\n",
              "  </tbody>\n",
              "</table>\n",
              "</div>"
            ],
            "text/plain": [
              "      PassengerId  ...                              Group_id\n",
              "909           910  ...  Ilmakangas-3-STON/O2. 310127-7.925-S\n",
              "924           925  ...          Johnston-3-W./C. 660-23.45-S\n",
              "928           929  ...                Cacic-3-31508-8.6625-S\n",
              "1023         1024  ...               Lefebre-3-413-25.4667-S\n",
              "1031         1032  ...               Goodwin-3-CA 214-46.9-S\n",
              "1044         1045  ...              Klasen-3-35040-12.1833-S\n",
              "1050         1051  ...  Peacock-3-SOTON/O.Q. 310131-13.775-S\n",
              "1079         1080  ...                Sage-3-CA. 234-69.55-S\n",
              "1140         1141  ...                Zabour-3-266-14.4542-C\n",
              "1154         1155  ...              Klasen-3-35040-12.1833-S\n",
              "1171         1172  ...                Cacic-3-31508-8.6625-S\n",
              "1175         1176  ...             Rosblom-3-37012-20.2125-S\n",
              "1256         1257  ...                Sage-3-CA. 234-69.55-S\n",
              "1258         1259  ...             Panula-3-310129-39.6875-S\n",
              "1300         1301  ...  Peacock-3-SOTON/O.Q. 310131-13.775-S\n",
              "\n",
              "[15 rows x 4 columns]"
            ]
          },
          "metadata": {
            "tags": []
          },
          "execution_count": 36
        }
      ]
    },
    {
      "cell_type": "code",
      "metadata": {
        "_kg_hide-input": true,
        "execution": {
          "iopub.execute_input": "2020-09-01T14:07:51.238956Z",
          "iopub.status.busy": "2020-09-01T14:07:51.238336Z",
          "iopub.status.idle": "2020-09-01T14:07:51.515260Z",
          "shell.execute_reply": "2020-09-01T14:07:51.514580Z"
        },
        "papermill": {
          "duration": 0.31057,
          "end_time": "2020-09-01T14:07:51.515373",
          "exception": false,
          "start_time": "2020-09-01T14:07:51.204803",
          "status": "completed"
        },
        "tags": [],
        "id": "KrrH-YFX_Qz3"
      },
      "source": [
        "# output = pd.DataFrame({'PassengerId': data[891:1309].PassengerId, 'Survived': data[891:1309].Predict.astype('int')})\n",
        "# output.to_csv('WCG_gender.csv', index=False)"
      ],
      "execution_count": null,
      "outputs": []
    },
    {
      "cell_type": "markdown",
      "metadata": {
        "id": "rmIH3-N7i-_1"
      },
      "source": [
        "WCGモデルだけの予測結果"
      ]
    },
    {
      "cell_type": "markdown",
      "metadata": {
        "papermill": {
          "duration": 0.026348,
          "end_time": "2020-09-01T14:07:51.568276",
          "exception": false,
          "start_time": "2020-09-01T14:07:51.541928",
          "status": "completed"
        },
        "tags": [],
        "id": "_GboU7us_Qz5"
      },
      "source": [
        "\n",
        "# 非WCGの乗客(男性と女性)"
      ]
    },
    {
      "cell_type": "code",
      "metadata": {
        "execution": {
          "iopub.execute_input": "2020-09-01T14:07:51.643383Z",
          "iopub.status.busy": "2020-09-01T14:07:51.642660Z",
          "iopub.status.idle": "2020-09-01T14:07:51.648447Z",
          "shell.execute_reply": "2020-09-01T14:07:51.648946Z"
        },
        "papermill": {
          "duration": 0.054608,
          "end_time": "2020-09-01T14:07:51.649098",
          "exception": false,
          "start_time": "2020-09-01T14:07:51.594490",
          "status": "completed"
        },
        "tags": [],
        "id": "KmveXAqB_Qz5",
        "outputId": "a07876ea-84a6-4f3c-9397-7118fc1d676d",
        "colab": {
          "base_uri": "https://localhost:8080/",
          "height": 587
        }
      },
      "source": [
        "# Assign np.NaN to zero-fares\n",
        "def fix_fare(row):\n",
        "    if row.Fare == 0:\n",
        "        row.Fare = np.NaN\n",
        "    return row\n",
        "print('The following {:d} passengers have a zero Fare:'.format(data[data.Fare==0].shape[0]))\n",
        "cols = ['PassengerId', 'Survived', 'Pclass','Fare', 'Name']\n",
        "data.loc[data.Fare==0, cols]"
      ],
      "execution_count": null,
      "outputs": [
        {
          "output_type": "stream",
          "text": [
            "The following 17 passengers have a zero Fare:\n"
          ],
          "name": "stdout"
        },
        {
          "output_type": "execute_result",
          "data": {
            "text/html": [
              "<div>\n",
              "<style scoped>\n",
              "    .dataframe tbody tr th:only-of-type {\n",
              "        vertical-align: middle;\n",
              "    }\n",
              "\n",
              "    .dataframe tbody tr th {\n",
              "        vertical-align: top;\n",
              "    }\n",
              "\n",
              "    .dataframe thead th {\n",
              "        text-align: right;\n",
              "    }\n",
              "</style>\n",
              "<table border=\"1\" class=\"dataframe\">\n",
              "  <thead>\n",
              "    <tr style=\"text-align: right;\">\n",
              "      <th></th>\n",
              "      <th>PassengerId</th>\n",
              "      <th>Survived</th>\n",
              "      <th>Pclass</th>\n",
              "      <th>Fare</th>\n",
              "      <th>Name</th>\n",
              "    </tr>\n",
              "  </thead>\n",
              "  <tbody>\n",
              "    <tr>\n",
              "      <th>179</th>\n",
              "      <td>180</td>\n",
              "      <td>0.0</td>\n",
              "      <td>3</td>\n",
              "      <td>0.0</td>\n",
              "      <td>Leonard, Mr. Lionel</td>\n",
              "    </tr>\n",
              "    <tr>\n",
              "      <th>263</th>\n",
              "      <td>264</td>\n",
              "      <td>0.0</td>\n",
              "      <td>1</td>\n",
              "      <td>0.0</td>\n",
              "      <td>Harrison, Mr. William</td>\n",
              "    </tr>\n",
              "    <tr>\n",
              "      <th>271</th>\n",
              "      <td>272</td>\n",
              "      <td>1.0</td>\n",
              "      <td>3</td>\n",
              "      <td>0.0</td>\n",
              "      <td>Tornquist, Mr. William Henry</td>\n",
              "    </tr>\n",
              "    <tr>\n",
              "      <th>277</th>\n",
              "      <td>278</td>\n",
              "      <td>0.0</td>\n",
              "      <td>2</td>\n",
              "      <td>0.0</td>\n",
              "      <td>Parkes, Mr. Francis \"Frank\"</td>\n",
              "    </tr>\n",
              "    <tr>\n",
              "      <th>302</th>\n",
              "      <td>303</td>\n",
              "      <td>0.0</td>\n",
              "      <td>3</td>\n",
              "      <td>0.0</td>\n",
              "      <td>Johnson, Mr. William Cahoone Jr</td>\n",
              "    </tr>\n",
              "    <tr>\n",
              "      <th>413</th>\n",
              "      <td>414</td>\n",
              "      <td>0.0</td>\n",
              "      <td>2</td>\n",
              "      <td>0.0</td>\n",
              "      <td>Cunningham, Mr. Alfred Fleming</td>\n",
              "    </tr>\n",
              "    <tr>\n",
              "      <th>466</th>\n",
              "      <td>467</td>\n",
              "      <td>0.0</td>\n",
              "      <td>2</td>\n",
              "      <td>0.0</td>\n",
              "      <td>Campbell, Mr. William</td>\n",
              "    </tr>\n",
              "    <tr>\n",
              "      <th>481</th>\n",
              "      <td>482</td>\n",
              "      <td>0.0</td>\n",
              "      <td>2</td>\n",
              "      <td>0.0</td>\n",
              "      <td>Frost, Mr. Anthony Wood \"Archie\"</td>\n",
              "    </tr>\n",
              "    <tr>\n",
              "      <th>597</th>\n",
              "      <td>598</td>\n",
              "      <td>0.0</td>\n",
              "      <td>3</td>\n",
              "      <td>0.0</td>\n",
              "      <td>Johnson, Mr. Alfred</td>\n",
              "    </tr>\n",
              "    <tr>\n",
              "      <th>633</th>\n",
              "      <td>634</td>\n",
              "      <td>0.0</td>\n",
              "      <td>1</td>\n",
              "      <td>0.0</td>\n",
              "      <td>Parr, Mr. William Henry Marsh</td>\n",
              "    </tr>\n",
              "    <tr>\n",
              "      <th>674</th>\n",
              "      <td>675</td>\n",
              "      <td>0.0</td>\n",
              "      <td>2</td>\n",
              "      <td>0.0</td>\n",
              "      <td>Watson, Mr. Ennis Hastings</td>\n",
              "    </tr>\n",
              "    <tr>\n",
              "      <th>732</th>\n",
              "      <td>733</td>\n",
              "      <td>0.0</td>\n",
              "      <td>2</td>\n",
              "      <td>0.0</td>\n",
              "      <td>Knight, Mr. Robert J</td>\n",
              "    </tr>\n",
              "    <tr>\n",
              "      <th>806</th>\n",
              "      <td>807</td>\n",
              "      <td>0.0</td>\n",
              "      <td>1</td>\n",
              "      <td>0.0</td>\n",
              "      <td>Andrews, Mr. Thomas Jr</td>\n",
              "    </tr>\n",
              "    <tr>\n",
              "      <th>815</th>\n",
              "      <td>816</td>\n",
              "      <td>0.0</td>\n",
              "      <td>1</td>\n",
              "      <td>0.0</td>\n",
              "      <td>Fry, Mr. Richard</td>\n",
              "    </tr>\n",
              "    <tr>\n",
              "      <th>822</th>\n",
              "      <td>823</td>\n",
              "      <td>0.0</td>\n",
              "      <td>1</td>\n",
              "      <td>0.0</td>\n",
              "      <td>Reuchlin, Jonkheer. John George</td>\n",
              "    </tr>\n",
              "    <tr>\n",
              "      <th>1157</th>\n",
              "      <td>1158</td>\n",
              "      <td>NaN</td>\n",
              "      <td>1</td>\n",
              "      <td>0.0</td>\n",
              "      <td>Chisholm, Mr. Roderick Robert Crispin</td>\n",
              "    </tr>\n",
              "    <tr>\n",
              "      <th>1263</th>\n",
              "      <td>1264</td>\n",
              "      <td>NaN</td>\n",
              "      <td>1</td>\n",
              "      <td>0.0</td>\n",
              "      <td>Ismay, Mr. Joseph Bruce</td>\n",
              "    </tr>\n",
              "  </tbody>\n",
              "</table>\n",
              "</div>"
            ],
            "text/plain": [
              "      PassengerId  Survived  ...  Fare                                   Name\n",
              "179           180       0.0  ...   0.0                    Leonard, Mr. Lionel\n",
              "263           264       0.0  ...   0.0                  Harrison, Mr. William\n",
              "271           272       1.0  ...   0.0           Tornquist, Mr. William Henry\n",
              "277           278       0.0  ...   0.0            Parkes, Mr. Francis \"Frank\"\n",
              "302           303       0.0  ...   0.0        Johnson, Mr. William Cahoone Jr\n",
              "413           414       0.0  ...   0.0         Cunningham, Mr. Alfred Fleming\n",
              "466           467       0.0  ...   0.0                  Campbell, Mr. William\n",
              "481           482       0.0  ...   0.0       Frost, Mr. Anthony Wood \"Archie\"\n",
              "597           598       0.0  ...   0.0                    Johnson, Mr. Alfred\n",
              "633           634       0.0  ...   0.0          Parr, Mr. William Henry Marsh\n",
              "674           675       0.0  ...   0.0             Watson, Mr. Ennis Hastings\n",
              "732           733       0.0  ...   0.0                   Knight, Mr. Robert J\n",
              "806           807       0.0  ...   0.0                 Andrews, Mr. Thomas Jr\n",
              "815           816       0.0  ...   0.0                       Fry, Mr. Richard\n",
              "822           823       0.0  ...   0.0        Reuchlin, Jonkheer. John George\n",
              "1157         1158       NaN  ...   0.0  Chisholm, Mr. Roderick Robert Crispin\n",
              "1263         1264       NaN  ...   0.0                Ismay, Mr. Joseph Bruce\n",
              "\n",
              "[17 rows x 5 columns]"
            ]
          },
          "metadata": {
            "tags": []
          },
          "execution_count": 38
        }
      ]
    },
    {
      "cell_type": "markdown",
      "metadata": {
        "papermill": {
          "duration": 0.026873,
          "end_time": "2020-09-01T14:07:51.703342",
          "exception": false,
          "start_time": "2020-09-01T14:07:51.676469",
          "status": "completed"
        },
        "tags": [],
        "id": "-StpSbzw_Qz8"
      },
      "source": [
        "fix_fare 関数を使う前と使った後の比較。"
      ]
    },
    {
      "cell_type": "code",
      "metadata": {
        "_kg_hide-input": true,
        "execution": {
          "iopub.execute_input": "2020-09-01T14:07:51.770663Z",
          "iopub.status.busy": "2020-09-01T14:07:51.765964Z",
          "iopub.status.idle": "2020-09-01T14:08:12.025083Z",
          "shell.execute_reply": "2020-09-01T14:08:12.025616Z"
        },
        "papermill": {
          "duration": 20.295697,
          "end_time": "2020-09-01T14:08:12.026006",
          "exception": false,
          "start_time": "2020-09-01T14:07:51.730309",
          "status": "completed"
        },
        "tags": [],
        "id": "wAJAtjcM_Qz8",
        "outputId": "32520fa8-3a69-4fa0-99db-59e6bf9e7298",
        "colab": {
          "base_uri": "https://localhost:8080/",
          "height": 782
        }
      },
      "source": [
        "fig, ax = plt.subplots(1,2,figsize=(12,8))\n",
        "fig.suptitle('Removing zero fares: before and after', fontsize=14)\n",
        "a = sns.swarmplot(x='Pclass', y='Fare', data=data, ax=ax[0])\n",
        "ax[0].axhline(y=2, color='r')\n",
        "# Apply the fix_fare function \n",
        "data = data.apply(fix_fare, axis='columns')\n",
        "ax[1].axhline(y=2, color='r')\n",
        "b = sns.swarmplot(x='Pclass', y='Fare', data=data, ax=ax[1])"
      ],
      "execution_count": null,
      "outputs": [
        {
          "output_type": "stream",
          "text": [
            "/usr/local/lib/python3.6/dist-packages/seaborn/categorical.py:1296: UserWarning: 32.8% of the points cannot be placed; you may want to decrease the size of the markers or use stripplot.\n",
            "  warnings.warn(msg, UserWarning)\n",
            "/usr/local/lib/python3.6/dist-packages/seaborn/categorical.py:1296: UserWarning: 67.9% of the points cannot be placed; you may want to decrease the size of the markers or use stripplot.\n",
            "  warnings.warn(msg, UserWarning)\n",
            "/usr/local/lib/python3.6/dist-packages/seaborn/categorical.py:1296: UserWarning: 84.2% of the points cannot be placed; you may want to decrease the size of the markers or use stripplot.\n",
            "  warnings.warn(msg, UserWarning)\n",
            "/usr/local/lib/python3.6/dist-packages/seaborn/categorical.py:1296: UserWarning: 32.8% of the points cannot be placed; you may want to decrease the size of the markers or use stripplot.\n",
            "  warnings.warn(msg, UserWarning)\n",
            "/usr/local/lib/python3.6/dist-packages/seaborn/categorical.py:1296: UserWarning: 67.9% of the points cannot be placed; you may want to decrease the size of the markers or use stripplot.\n",
            "  warnings.warn(msg, UserWarning)\n",
            "/usr/local/lib/python3.6/dist-packages/seaborn/categorical.py:1296: UserWarning: 83.9% of the points cannot be placed; you may want to decrease the size of the markers or use stripplot.\n",
            "  warnings.warn(msg, UserWarning)\n"
          ],
          "name": "stderr"
        },
        {
          "output_type": "display_data",
          "data": {
            "image/png": "[encoded data removed]",
            "text/plain": [
              "<Figure size 864x576 with 2 Axes>"
            ]
          },
          "metadata": {
            "tags": []
          }
        }
      ]
    },
    {
      "cell_type": "markdown",
      "metadata": {
        "papermill": {
          "duration": 0.028669,
          "end_time": "2020-09-01T14:08:12.083595",
          "exception": false,
          "start_time": "2020-09-01T14:08:12.054926",
          "status": "completed"
        },
        "tags": [],
        "id": "R2h3s68P_Qz_"
      },
      "source": [
        "次に、`Fare`カラムを再度修正して、乗客の`Fare`をチケットの頻度で割っただけの`Pfare`特徴量を作成する。\n",
        "これでほとんどの場合で、`Fare` 特徴の範囲を狭め、外れ値を修正できる。 "
      ]
    },
    {
      "cell_type": "code",
      "metadata": {
        "execution": {
          "iopub.execute_input": "2020-09-01T14:08:12.154157Z",
          "iopub.status.busy": "2020-09-01T14:08:12.153109Z",
          "iopub.status.idle": "2020-09-01T14:08:12.162903Z",
          "shell.execute_reply": "2020-09-01T14:08:12.163509Z"
        },
        "papermill": {
          "duration": 0.051861,
          "end_time": "2020-09-01T14:08:12.163705",
          "exception": false,
          "start_time": "2020-09-01T14:08:12.111844",
          "status": "completed"
        },
        "tags": [],
        "id": "Q0G_sLL__Qz_"
      },
      "source": [
        "# Calculate Ticket frequency and divide Fare by it\n",
        "data['Ticket_freq'] = data.groupby('Ticket')['Ticket'].transform('count')\n",
        "data['Pfare'] = data['Fare'] / data['Ticket_freq']"
      ],
      "execution_count": null,
      "outputs": []
    },
    {
      "cell_type": "code",
      "metadata": {
        "_kg_hide-input": true,
        "execution": {
          "iopub.execute_input": "2020-09-01T14:08:12.246486Z",
          "iopub.status.busy": "2020-09-01T14:08:12.244621Z",
          "iopub.status.idle": "2020-09-01T14:08:33.188908Z",
          "shell.execute_reply": "2020-09-01T14:08:33.188377Z"
        },
        "papermill": {
          "duration": 20.988936,
          "end_time": "2020-09-01T14:08:33.189024",
          "exception": false,
          "start_time": "2020-09-01T14:08:12.200088",
          "status": "completed"
        },
        "tags": [],
        "id": "MN6BrEUk_Q0B",
        "outputId": "b2836dbe-d631-424d-fc22-21fa81090a59",
        "colab": {
          "base_uri": "https://localhost:8080/",
          "height": 782
        }
      },
      "source": [
        "fig, ax = plt.subplots(1,2,figsize=(12,8))\n",
        "fig.suptitle('Fare and Pfare compared', fontsize=14)\n",
        "a = sns.swarmplot(x='Pclass', y='Fare', data=data, ax=ax[0])\n",
        "b = sns.swarmplot(x='Pclass', y='Pfare', data=data, ax=ax[1])"
      ],
      "execution_count": null,
      "outputs": [
        {
          "output_type": "stream",
          "text": [
            "/usr/local/lib/python3.6/dist-packages/seaborn/categorical.py:1296: UserWarning: 32.8% of the points cannot be placed; you may want to decrease the size of the markers or use stripplot.\n",
            "  warnings.warn(msg, UserWarning)\n",
            "/usr/local/lib/python3.6/dist-packages/seaborn/categorical.py:1296: UserWarning: 67.9% of the points cannot be placed; you may want to decrease the size of the markers or use stripplot.\n",
            "  warnings.warn(msg, UserWarning)\n",
            "/usr/local/lib/python3.6/dist-packages/seaborn/categorical.py:1296: UserWarning: 83.9% of the points cannot be placed; you may want to decrease the size of the markers or use stripplot.\n",
            "  warnings.warn(msg, UserWarning)\n",
            "/usr/local/lib/python3.6/dist-packages/seaborn/categorical.py:1296: UserWarning: 37.5% of the points cannot be placed; you may want to decrease the size of the markers or use stripplot.\n",
            "  warnings.warn(msg, UserWarning)\n",
            "/usr/local/lib/python3.6/dist-packages/seaborn/categorical.py:1296: UserWarning: 66.4% of the points cannot be placed; you may want to decrease the size of the markers or use stripplot.\n",
            "  warnings.warn(msg, UserWarning)\n",
            "/usr/local/lib/python3.6/dist-packages/seaborn/categorical.py:1296: UserWarning: 89.4% of the points cannot be placed; you may want to decrease the size of the markers or use stripplot.\n",
            "  warnings.warn(msg, UserWarning)\n"
          ],
          "name": "stderr"
        },
        {
          "output_type": "display_data",
          "data": {
            "image/png": "[encoded data removed]",
            "text/plain": [
              "<Figure size 864x576 with 2 Axes>"
            ]
          },
          "metadata": {
            "tags": []
          }
        }
      ]
    },
    {
      "cell_type": "markdown",
      "metadata": {
        "id": "DOiwmz-ljb8p"
      },
      "source": [
        "rangeは500以上から125に縮小され、2クラス目はよりコンパクトになり、3クラス目は本当に高い運賃でほとんどの外れ値がなくなった。"
      ]
    },
    {
      "cell_type": "markdown",
      "metadata": {
        "papermill": {
          "duration": 0.030572,
          "end_time": "2020-09-01T14:08:33.248033",
          "exception": false,
          "start_time": "2020-09-01T14:08:33.217461",
          "status": "completed"
        },
        "tags": [],
        "id": "m1-qyrUa_Q0D"
      },
      "source": [
        "##非WCGである男性"
      ]
    },
    {
      "cell_type": "code",
      "metadata": {
        "execution": {
          "iopub.execute_input": "2020-09-01T14:08:33.313767Z",
          "iopub.status.busy": "2020-09-01T14:08:33.312687Z",
          "iopub.status.idle": "2020-09-01T14:08:33.319911Z",
          "shell.execute_reply": "2020-09-01T14:08:33.320485Z"
        },
        "papermill": {
          "duration": 0.043737,
          "end_time": "2020-09-01T14:08:33.320633",
          "exception": false,
          "start_time": "2020-09-01T14:08:33.276896",
          "status": "completed"
        },
        "tags": [],
        "id": "n0M4QO2m_Q0E"
      },
      "source": [
        "# Isolating adult males in train and test set\n",
        "train_male = data[0:891].loc[(data.Sex=='male') & (data.WCSurvived.isnull())]\n",
        "test_male = data[891:1309].loc[(data.Sex=='male') & (data.WCSurvived.isnull())]"
      ],
      "execution_count": null,
      "outputs": []
    },
    {
      "cell_type": "code",
      "metadata": {
        "_kg_hide-input": true,
        "execution": {
          "iopub.execute_input": "2020-09-01T14:08:33.439791Z",
          "iopub.status.busy": "2020-09-01T14:08:33.438646Z",
          "iopub.status.idle": "2020-09-01T14:08:37.454631Z",
          "shell.execute_reply": "2020-09-01T14:08:37.455166Z"
        },
        "papermill": {
          "duration": 4.049029,
          "end_time": "2020-09-01T14:08:37.455327",
          "exception": false,
          "start_time": "2020-09-01T14:08:33.406298",
          "status": "completed"
        },
        "tags": [],
        "id": "72O8yzf2_Q0G",
        "outputId": "97141dc3-1187-43dd-c5af-148efbd800a3",
        "colab": {
          "base_uri": "https://localhost:8080/",
          "height": 960
        }
      },
      "source": [
        "fig, ax = plt.subplots(2,2,figsize=(12,12))\n",
        "fig.suptitle('Adult males EDA', fontsize=14)\n",
        "sns.barplot(x='Pclass', y='Survived', data=train_male, ax=ax[0][0])\n",
        "\n",
        "ax[0][0].axhline(y=train_male.Survived.mean(), color='r')\n",
        "\n",
        "sns.barplot(x='Embarked', y='Survived', data=train_male, ax=ax[0][1])\n",
        "\n",
        "ax[0][1].axhline(y=train_male.Survived.mean(), color='r')\n",
        "\n",
        "sns.swarmplot(x='Pclass', y='Pfare', hue='Survived', data=train_male, ax=ax[1][0])\n",
        "# ax[1][0].axhline(y=25, color='y')\n",
        "# ax[1][0].axhline(y=32, color='y')\n",
        "a = sns.swarmplot(y='Age', x='Pclass', hue='Survived', data=train_male, ax=ax[1][1])"
      ],
      "execution_count": null,
      "outputs": [
        {
          "output_type": "stream",
          "text": [
            "/usr/local/lib/python3.6/dist-packages/seaborn/categorical.py:1296: UserWarning: 26.9% of the points cannot be placed; you may want to decrease the size of the markers or use stripplot.\n",
            "  warnings.warn(msg, UserWarning)\n",
            "/usr/local/lib/python3.6/dist-packages/seaborn/categorical.py:1296: UserWarning: 52.5% of the points cannot be placed; you may want to decrease the size of the markers or use stripplot.\n",
            "  warnings.warn(msg, UserWarning)\n",
            "/usr/local/lib/python3.6/dist-packages/seaborn/categorical.py:1296: UserWarning: 85.9% of the points cannot be placed; you may want to decrease the size of the markers or use stripplot.\n",
            "  warnings.warn(msg, UserWarning)\n",
            "/usr/local/lib/python3.6/dist-packages/seaborn/categorical.py:1296: UserWarning: 7.8% of the points cannot be placed; you may want to decrease the size of the markers or use stripplot.\n",
            "  warnings.warn(msg, UserWarning)\n"
          ],
          "name": "stderr"
        },
        {
          "output_type": "display_data",
          "data": {
            "image/png": "[encoded data removed]",
            "text/plain": [
              "<Figure size 864x864 with 4 Axes>"
            ]
          },
          "metadata": {
            "tags": []
          }
        }
      ]
    },
    {
      "cell_type": "markdown",
      "metadata": {
        "papermill": {
          "duration": 0.030607,
          "end_time": "2020-09-01T14:08:37.516063",
          "exception": false,
          "start_time": "2020-09-01T14:08:37.485456",
          "status": "completed"
        },
        "tags": [],
        "id": "LpUngIZl_Q0J"
      },
      "source": [
        "赤線は、trainデータの男性の平均値死亡率。\n",
        "`Pclass`,`Embarked`は今回の予測するグループによっての特長が変わりそう。 \n",
        "`Pfare`も`Pclass`でみてやると、なにかしら関係がありそうなので`Pclass`の値が高いと言えそう。`Age`は`Pclass`でみると散らばっててわかりにくそう。"
      ]
    },
    {
      "cell_type": "code",
      "metadata": {
        "_kg_hide-input": true,
        "execution": {
          "iopub.execute_input": "2020-09-01T14:08:37.594693Z",
          "iopub.status.busy": "2020-09-01T14:08:37.593942Z",
          "iopub.status.idle": "2020-09-01T14:08:38.374627Z",
          "shell.execute_reply": "2020-09-01T14:08:38.375162Z"
        },
        "papermill": {
          "duration": 0.828002,
          "end_time": "2020-09-01T14:08:38.375319",
          "exception": false,
          "start_time": "2020-09-01T14:08:37.547317",
          "status": "completed"
        },
        "tags": [],
        "id": "AfibgEVy_Q0J",
        "outputId": "40cee029-cc4a-4881-804d-4d46ce1867f3",
        "colab": {
          "base_uri": "https://localhost:8080/",
          "height": 590
        }
      },
      "source": [
        "x1 = train_male.loc[train_male['Survived']==1, 'Pfare']\n",
        "x0 = train_male.loc[train_male['Survived']==0, 'Pfare']\n",
        "y1 = train_male.loc[train_male['Survived']==1, 'Age']\n",
        "y0 = train_male.loc[train_male['Survived']==0, 'Age']\n",
        "\n",
        "fig, ax = plt.subplots(1,2,figsize=(12,6))\n",
        "fig.suptitle('Age and Pfare distributions with hue Survived', fontsize=14)\n",
        "sns.distplot(x1, bins=30, label = 'Survived', ax = ax[0], color = 'c')\n",
        "sns.distplot(x0, bins=25, label = 'Not survived', ax = ax[0], color = 'y')\n",
        "ax[0].set_xlim(-5, 70)\n",
        "ax[0].legend()\n",
        "sns.distplot(y1, bins=20, label = 'Survived', ax = ax[1], color = 'g')\n",
        "sns.distplot(y0, bins=20, label = 'Not survived', ax = ax[1], color = 'r')\n",
        "ax[1].legend()\n",
        "fig.show()"
      ],
      "execution_count": null,
      "outputs": [
        {
          "output_type": "stream",
          "text": [
            "/usr/local/lib/python3.6/dist-packages/seaborn/distributions.py:2551: FutureWarning: `distplot` is a deprecated function and will be removed in a future version. Please adapt your code to use either `displot` (a figure-level function with similar flexibility) or `histplot` (an axes-level function for histograms).\n",
            "  warnings.warn(msg, FutureWarning)\n",
            "/usr/local/lib/python3.6/dist-packages/seaborn/distributions.py:2551: FutureWarning: `distplot` is a deprecated function and will be removed in a future version. Please adapt your code to use either `displot` (a figure-level function with similar flexibility) or `histplot` (an axes-level function for histograms).\n",
            "  warnings.warn(msg, FutureWarning)\n",
            "/usr/local/lib/python3.6/dist-packages/seaborn/distributions.py:2551: FutureWarning: `distplot` is a deprecated function and will be removed in a future version. Please adapt your code to use either `displot` (a figure-level function with similar flexibility) or `histplot` (an axes-level function for histograms).\n",
            "  warnings.warn(msg, FutureWarning)\n",
            "/usr/local/lib/python3.6/dist-packages/seaborn/distributions.py:2551: FutureWarning: `distplot` is a deprecated function and will be removed in a future version. Please adapt your code to use either `displot` (a figure-level function with similar flexibility) or `histplot` (an axes-level function for histograms).\n",
            "  warnings.warn(msg, FutureWarning)\n"
          ],
          "name": "stderr"
        },
        {
          "output_type": "display_data",
          "data": {
            "image/png": "[encoded data removed]",
            "text/plain": [
              "<Figure size 864x432 with 2 Axes>"
            ]
          },
          "metadata": {
            "tags": []
          }
        }
      ]
    },
    {
      "cell_type": "markdown",
      "metadata": {
        "id": "0A4ABgwjli89"
      },
      "source": [
        "死んだ人と生き残った人との間の差が`Age` にはあまりなく、`Pfare`はそこそこあるので、 `Age`は使わないようにだけする。"
      ]
    },
    {
      "cell_type": "markdown",
      "metadata": {
        "papermill": {
          "duration": 0.034916,
          "end_time": "2020-09-01T14:08:38.442147",
          "exception": false,
          "start_time": "2020-09-01T14:08:38.407231",
          "status": "completed"
        },
        "tags": [],
        "id": "Kbta1MSX_Q0N"
      },
      "source": [
        "## 非WCGの男性の予測\n",
        "\n",
        "k_neighborsを変えた時のrecall(再現率)とprecision(適合率)の変化KNNモデルでどのように変化するか。\n"
      ]
    },
    {
      "cell_type": "code",
      "metadata": {
        "execution": {
          "iopub.execute_input": "2020-09-01T14:08:38.523578Z",
          "iopub.status.busy": "2020-09-01T14:08:38.522857Z",
          "iopub.status.idle": "2020-09-01T14:08:48.115883Z",
          "shell.execute_reply": "2020-09-01T14:08:48.115065Z"
        },
        "papermill": {
          "duration": 9.642688,
          "end_time": "2020-09-01T14:08:48.116004",
          "exception": false,
          "start_time": "2020-09-01T14:08:38.473316",
          "status": "completed"
        },
        "tags": [],
        "id": "tTUKlltG_Q0O",
        "outputId": "ec3e587c-5202-4409-9961-9cb3ba5d88d1",
        "colab": {
          "base_uri": "https://localhost:8080/",
          "height": 351
        }
      },
      "source": [
        "cols = ['PassengerId', 'Name', 'Pfare', 'Pclass', 'Embarked']\n",
        "y_m = train_male['Survived']\n",
        "features = ['Pfare', 'Pclass', 'Embarked']\n",
        "X_m = train_male[features]\n",
        "\n",
        "numerical_cols = ['Pfare']\n",
        "categorical_cols = ['Pclass', 'Embarked']\n",
        "\n",
        "numerical_transformer = Pipeline(steps=[\n",
        "    ('imputer', SimpleImputer()),\n",
        "    ('scaler', StandardScaler())\n",
        "])\n",
        "\n",
        "categorical_transformer = Pipeline(steps=[\n",
        "    ('imputer', SimpleImputer(strategy='most_frequent')),\n",
        "    ('onehot', OneHotEncoder(handle_unknown='ignore'))\n",
        "])\n",
        "\n",
        "preprocessor = ColumnTransformer(transformers=[\n",
        "    ('num', numerical_transformer, numerical_cols),\n",
        "    ('cat', categorical_transformer, categorical_cols)\n",
        "])\n",
        "\n",
        "precision_m = []\n",
        "recall_m = []\n",
        "\n",
        "for k in range(1,30):\n",
        "# for k in range(1,18):\n",
        "    pipeline1 = Pipeline(steps=[\n",
        "        ('preprocessor', preprocessor),\n",
        "        ('model', KNeighborsClassifier(n_neighbors=k))\n",
        "    ])\n",
        "    precision_m.append(cross_val_score(pipeline1, X_m, y_m, cv=15, n_jobs=-1, scoring='precision').mean())\n",
        "    recall_m.append(cross_val_score(pipeline1, X_m, y_m, cv=15, n_jobs=-1, scoring='recall').mean())\n",
        "    \n",
        "k_range = range(1,30)\n",
        "# k_range = range(1,18)\n",
        "plt.figure(figsize=(7,5))\n",
        "plt.plot(k_range, precision_m, label='15-fold precision')\n",
        "plt.plot(k_range, recall_m, label='15-fold recall')\n",
        "plt.axhline(y=0.5, color='r')\n",
        "plt.xlabel('Value of k for KNN')\n",
        "plt.title('Precision and recall by number of neighbors', fontsize=14)\n",
        "plt.legend()\n",
        "plt.show()"
      ],
      "execution_count": null,
      "outputs": [
        {
          "output_type": "display_data",
          "data": {
            "image/png": "[encoded data removed]",
            "text/plain": [
              "<Figure size 504x360 with 1 Axes>"
            ]
          },
          "metadata": {
            "tags": []
          }
        }
      ]
    },
    {
      "cell_type": "markdown",
      "metadata": {
        "papermill": {
          "duration": 0.031606,
          "end_time": "2020-09-01T14:08:48.179842",
          "exception": false,
          "start_time": "2020-09-01T14:08:48.148236",
          "status": "completed"
        },
        "tags": [],
        "id": "5b0-fLna_Q0Q"
      },
      "source": [
        "recallとprecisionより、k値を1、3、7にする。 "
      ]
    },
    {
      "cell_type": "code",
      "metadata": {
        "execution": {
          "iopub.execute_input": "2020-09-01T14:08:48.256002Z",
          "iopub.status.busy": "2020-09-01T14:08:48.251420Z",
          "iopub.status.idle": "2020-09-01T14:08:49.296758Z",
          "shell.execute_reply": "2020-09-01T14:08:49.295916Z"
        },
        "papermill": {
          "duration": 1.08555,
          "end_time": "2020-09-01T14:08:49.296934",
          "exception": false,
          "start_time": "2020-09-01T14:08:48.211384",
          "status": "completed"
        },
        "tags": [],
        "id": "s0z9Rsnn_Q0Q",
        "outputId": "6d8d40dd-4048-431e-8632-4ea718c270be",
        "colab": {
          "base_uri": "https://localhost:8080/",
          "height": 377
        }
      },
      "source": [
        "from sklearn.ensemble import RandomForestClassifier\n",
        "from xgboost import XGBClassifier\n",
        "from lightgbm import LGBMClassifier\n",
        "\n",
        "\n",
        "\n",
        "# 変更4LB0.847 \n",
        "# これは結局knnに対する重みが大きすぎないか？まぁ、これにするか\n",
        "# m1 = KNeighborsClassifier(n_neighbors=1)\n",
        "# m2 = KNeighborsClassifier(n_neighbors=3)\n",
        "# m3 = KNeighborsClassifier(n_neighbors=7)\n",
        "# m4 = XGBClassifier(random_state=0)\n",
        "# m5 = RandomForestClassifier(random_state=0)\n",
        "############################\n",
        "# 15-fold precision of the ensemble: 0.542\n",
        "# 15-fold recall of the ensemble: 0.269\n",
        "# 15-fold accuracy of the ensemble: 0.846\n",
        "############################\n",
        "\n",
        "\n",
        "\n",
        "# 変更3LB0.844 \n",
        "# m1 = XGBClassifier(random_state=0)\n",
        "# m2 = KNeighborsClassifier(n_neighbors=7) \n",
        "# m3 = RandomForestClassifier(random_state=0)\n",
        "############################\n",
        "# 15-fold precision of the ensemble: 0.563\n",
        "# 15-fold recall of the ensemble: 0.231\n",
        "# 15-fold accuracy of the ensemble: 0.844\n",
        "############################\n",
        "\n",
        "\n",
        "\n",
        "# 変更2LB0.844 \n",
        "# m1 = XGBClassifier(random_state=0)\n",
        "# m2 = KNeighborsClassifier(n_neighbors=3) \n",
        "# m3 = RandomForestClassifier(random_state=0)\n",
        "############################\n",
        "# 15-fold precision of the ensemble: 0.536\n",
        "# 15-fold recall of the ensemble: 0.256\n",
        "# 15-fold accuracy of the ensemble: 0.844\n",
        "############################\n",
        "\n",
        "\n",
        "\n",
        "# 変更1LB0.841 \n",
        "# m1 = XGBClassifier(random_state=0)\n",
        "# m2 = LGBMClassifier(random_state=0)\n",
        "# m3 = RandomForestClassifier(random_state=0)\n",
        "############################\n",
        "# 15-fold precision of the ensemble: 0.546\n",
        "# 15-fold recall of the ensemble: 0.242\n",
        "# 15-fold accuracy of the ensemble: 0.847\n",
        "############################\n",
        "\n",
        "\n",
        "\n",
        "# 元LB0.847(アンサンブルがknnだけってどうなの) \n",
        "m1 = KNeighborsClassifier(n_neighbors=1)\n",
        "m2 = KNeighborsClassifier(n_neighbors=3)\n",
        "m3 = KNeighborsClassifier(n_neighbors=7)\n",
        "# 数値的にこれだなやっぱ\n",
        "############################\n",
        "# 15-fold precision of the ensemble: 0.562\n",
        "# 15-fold recall of the ensemble: 0.318\n",
        "# 15-fold accuracy of the ensemble: 0.851\n",
        "############################\n",
        "\n",
        "\n",
        "\n",
        "# Preprocessing is the same as before\n",
        "male_pipeline = Pipeline(steps=[\n",
        "    ('preprocessor', preprocessor),\n",
        "    ('voting',VotingClassifier([\n",
        "        ('m1', m1), ('m2', m2), ('m3', m3)]))\n",
        "        # 変更4用\n",
        "        # ('m1', m1), ('m2', m2), ('m3', m3), ('m4', m4), ('m5', m5)]))\n",
        "])\n",
        "print('15-fold precision of the ensemble: {:.3f}'.format(\n",
        "    cross_val_score(male_pipeline, X_m, y_m, cv=15, n_jobs=-1, scoring='precision').mean()))\n",
        "print('15-fold recall of the ensemble: {:.3f}'.format(\n",
        "    cross_val_score(male_pipeline, X_m, y_m, cv=15, n_jobs=-1, scoring='recall').mean()))\n",
        "print('15-fold accuracy of the ensemble: {:.3f}'.format(\n",
        "    cross_val_score(male_pipeline, X_m, y_m, cv=15, n_jobs=-1).mean()))\n",
        "# Fit model and make predictions\n",
        "male_pipeline.fit(X_m, y_m)\n",
        "learn_train_m = male_pipeline.predict(X_m)\n",
        "X_test_m = test_male[features]\n",
        "predictions_m = male_pipeline.predict(X_test_m)\n",
        "test_male.loc[(predictions_m==1), cols]"
      ],
      "execution_count": null,
      "outputs": [
        {
          "output_type": "stream",
          "text": [
            "15-fold precision of the ensemble: 0.562\n",
            "15-fold recall of the ensemble: 0.318\n",
            "15-fold accuracy of the ensemble: 0.851\n"
          ],
          "name": "stdout"
        },
        {
          "output_type": "execute_result",
          "data": {
            "text/html": [
              "<div>\n",
              "<style scoped>\n",
              "    .dataframe tbody tr th:only-of-type {\n",
              "        vertical-align: middle;\n",
              "    }\n",
              "\n",
              "    .dataframe tbody tr th {\n",
              "        vertical-align: top;\n",
              "    }\n",
              "\n",
              "    .dataframe thead th {\n",
              "        text-align: right;\n",
              "    }\n",
              "</style>\n",
              "<table border=\"1\" class=\"dataframe\">\n",
              "  <thead>\n",
              "    <tr style=\"text-align: right;\">\n",
              "      <th></th>\n",
              "      <th>PassengerId</th>\n",
              "      <th>Name</th>\n",
              "      <th>Pfare</th>\n",
              "      <th>Pclass</th>\n",
              "      <th>Embarked</th>\n",
              "    </tr>\n",
              "  </thead>\n",
              "  <tbody>\n",
              "    <tr>\n",
              "      <th>919</th>\n",
              "      <td>920</td>\n",
              "      <td>Brady, Mr. John Bertram</td>\n",
              "      <td>30.500000</td>\n",
              "      <td>1</td>\n",
              "      <td>S</td>\n",
              "    </tr>\n",
              "    <tr>\n",
              "      <th>925</th>\n",
              "      <td>926</td>\n",
              "      <td>Mock, Mr. Philipp Edmund</td>\n",
              "      <td>28.875000</td>\n",
              "      <td>1</td>\n",
              "      <td>C</td>\n",
              "    </tr>\n",
              "    <tr>\n",
              "      <th>930</th>\n",
              "      <td>931</td>\n",
              "      <td>Hee, Mr. Ling</td>\n",
              "      <td>7.061975</td>\n",
              "      <td>3</td>\n",
              "      <td>S</td>\n",
              "    </tr>\n",
              "    <tr>\n",
              "      <th>941</th>\n",
              "      <td>942</td>\n",
              "      <td>Smith, Mr. Lucien Philip</td>\n",
              "      <td>30.000000</td>\n",
              "      <td>1</td>\n",
              "      <td>S</td>\n",
              "    </tr>\n",
              "    <tr>\n",
              "      <th>959</th>\n",
              "      <td>960</td>\n",
              "      <td>Tucker, Mr. Gilbert Milligan Jr</td>\n",
              "      <td>28.537500</td>\n",
              "      <td>1</td>\n",
              "      <td>C</td>\n",
              "    </tr>\n",
              "    <tr>\n",
              "      <th>985</th>\n",
              "      <td>986</td>\n",
              "      <td>Birnbaum, Mr. Jakob</td>\n",
              "      <td>26.000000</td>\n",
              "      <td>1</td>\n",
              "      <td>C</td>\n",
              "    </tr>\n",
              "    <tr>\n",
              "      <th>1022</th>\n",
              "      <td>1023</td>\n",
              "      <td>Gracie, Col. Archibald IV</td>\n",
              "      <td>28.500000</td>\n",
              "      <td>1</td>\n",
              "      <td>C</td>\n",
              "    </tr>\n",
              "    <tr>\n",
              "      <th>1068</th>\n",
              "      <td>1069</td>\n",
              "      <td>Stengel, Mr. Charles Emil Henry</td>\n",
              "      <td>27.720850</td>\n",
              "      <td>1</td>\n",
              "      <td>C</td>\n",
              "    </tr>\n",
              "    <tr>\n",
              "      <th>1096</th>\n",
              "      <td>1097</td>\n",
              "      <td>Omont, Mr. Alfred Fernand</td>\n",
              "      <td>25.741700</td>\n",
              "      <td>1</td>\n",
              "      <td>C</td>\n",
              "    </tr>\n",
              "  </tbody>\n",
              "</table>\n",
              "</div>"
            ],
            "text/plain": [
              "      PassengerId                             Name      Pfare  Pclass Embarked\n",
              "919           920          Brady, Mr. John Bertram  30.500000       1        S\n",
              "925           926         Mock, Mr. Philipp Edmund  28.875000       1        C\n",
              "930           931                    Hee, Mr. Ling   7.061975       3        S\n",
              "941           942         Smith, Mr. Lucien Philip  30.000000       1        S\n",
              "959           960  Tucker, Mr. Gilbert Milligan Jr  28.537500       1        C\n",
              "985           986              Birnbaum, Mr. Jakob  26.000000       1        C\n",
              "1022         1023        Gracie, Col. Archibald IV  28.500000       1        C\n",
              "1068         1069  Stengel, Mr. Charles Emil Henry  27.720850       1        C\n",
              "1096         1097        Omont, Mr. Alfred Fernand  25.741700       1        C"
            ]
          },
          "metadata": {
            "tags": []
          },
          "execution_count": 46
        }
      ]
    },
    {
      "cell_type": "code",
      "metadata": {
        "_kg_hide-input": true,
        "execution": {
          "iopub.execute_input": "2020-09-01T14:08:49.450810Z",
          "iopub.status.busy": "2020-09-01T14:08:49.444981Z",
          "iopub.status.idle": "2020-09-01T14:08:53.454092Z",
          "shell.execute_reply": "2020-09-01T14:08:53.454611Z"
        },
        "papermill": {
          "duration": 4.053519,
          "end_time": "2020-09-01T14:08:53.454749",
          "exception": false,
          "start_time": "2020-09-01T14:08:49.401230",
          "status": "completed"
        },
        "tags": [],
        "id": "6FqwSzMp_Q0T",
        "outputId": "56287cf5-5c61-4b84-e5fd-5b89881c97db",
        "colab": {
          "base_uri": "https://localhost:8080/",
          "height": 851
        }
      },
      "source": [
        "fig, ax = plt.subplots(1,3,figsize=(15,8))\n",
        "fig.suptitle('Fun comparison of train set vs test set', fontsize=14)\n",
        "ax[0].set_title('Real train set')\n",
        "ax[0].set_ylim(top=60)\n",
        "sns.swarmplot(x=X_m.Pclass, y=X_m.Pfare, hue=y_m, ax=ax[0])\n",
        "ax[1].set_title('Ensemble learns the train set')\n",
        "ax[1].set_ylim(top=60)\n",
        "sns.swarmplot(x=X_m.Pclass, y=X_m.Pfare, hue=learn_train_m,  ax=ax[1])\n",
        "ax[2].set_title('Ensemble predicts the test set')\n",
        "ax[2].set_ylim(top=60)\n",
        "a = sns.swarmplot(x=test_male.Pclass, y=test_male.Pfare, hue=predictions_m,  ax=ax[2])"
      ],
      "execution_count": null,
      "outputs": [
        {
          "output_type": "stream",
          "text": [
            "/usr/local/lib/python3.6/dist-packages/seaborn/categorical.py:1296: UserWarning: 17.6% of the points cannot be placed; you may want to decrease the size of the markers or use stripplot.\n",
            "  warnings.warn(msg, UserWarning)\n",
            "/usr/local/lib/python3.6/dist-packages/seaborn/categorical.py:1296: UserWarning: 44.4% of the points cannot be placed; you may want to decrease the size of the markers or use stripplot.\n",
            "  warnings.warn(msg, UserWarning)\n",
            "/usr/local/lib/python3.6/dist-packages/seaborn/categorical.py:1296: UserWarning: 75.2% of the points cannot be placed; you may want to decrease the size of the markers or use stripplot.\n",
            "  warnings.warn(msg, UserWarning)\n",
            "/usr/local/lib/python3.6/dist-packages/seaborn/categorical.py:1296: UserWarning: 17.6% of the points cannot be placed; you may want to decrease the size of the markers or use stripplot.\n",
            "  warnings.warn(msg, UserWarning)\n",
            "/usr/local/lib/python3.6/dist-packages/seaborn/categorical.py:1296: UserWarning: 44.4% of the points cannot be placed; you may want to decrease the size of the markers or use stripplot.\n",
            "  warnings.warn(msg, UserWarning)\n",
            "/usr/local/lib/python3.6/dist-packages/seaborn/categorical.py:1296: UserWarning: 75.2% of the points cannot be placed; you may want to decrease the size of the markers or use stripplot.\n",
            "  warnings.warn(msg, UserWarning)\n",
            "/usr/local/lib/python3.6/dist-packages/seaborn/categorical.py:1296: UserWarning: 34.4% of the points cannot be placed; you may want to decrease the size of the markers or use stripplot.\n",
            "  warnings.warn(msg, UserWarning)\n",
            "/usr/local/lib/python3.6/dist-packages/seaborn/categorical.py:1296: UserWarning: 64.9% of the points cannot be placed; you may want to decrease the size of the markers or use stripplot.\n",
            "  warnings.warn(msg, UserWarning)\n"
          ],
          "name": "stderr"
        },
        {
          "output_type": "display_data",
          "data": {
            "image/png": "[encoded data removed]",
            "text/plain": [
              "<Figure size 1080x576 with 3 Axes>"
            ]
          },
          "metadata": {
            "tags": []
          }
        }
      ]
    },
    {
      "cell_type": "code",
      "metadata": {
        "_kg_hide-input": true,
        "execution": {
          "iopub.execute_input": "2020-09-01T14:08:53.599472Z",
          "iopub.status.busy": "2020-09-01T14:08:53.597674Z",
          "iopub.status.idle": "2020-09-01T14:08:53.611453Z",
          "shell.execute_reply": "2020-09-01T14:08:53.610629Z"
        },
        "papermill": {
          "duration": 0.058581,
          "end_time": "2020-09-01T14:08:53.611624",
          "exception": false,
          "start_time": "2020-09-01T14:08:53.553043",
          "status": "completed"
        },
        "tags": [],
        "id": "VnyFAYQQ_Q0V"
      },
      "source": [
        "data.loc[891:1308, 'Predict'][(data.Sex=='male') & (data.WCSurvived.isnull())] = predictions_m\n",
        "# output = pd.DataFrame({'PassengerId': data[891:1309].PassengerId, 'Survived': data[891:1309].Predict.astype('int')})\n",
        "# output.to_csv('WCG_male.csv', index=False)"
      ],
      "execution_count": null,
      "outputs": []
    },
    {
      "cell_type": "markdown",
      "metadata": {
        "id": "N0Ac6S9cmCco"
      },
      "source": [
        "WCG＋男性の予測終わり"
      ]
    },
    {
      "cell_type": "markdown",
      "metadata": {
        "papermill": {
          "duration": 0.032733,
          "end_time": "2020-09-01T14:08:53.682880",
          "exception": false,
          "start_time": "2020-09-01T14:08:53.650147",
          "status": "completed"
        },
        "tags": [],
        "id": "5jJqzupT_Q0Z"
      },
      "source": [
        "## 非WCGの女性"
      ]
    },
    {
      "cell_type": "code",
      "metadata": {
        "execution": {
          "iopub.execute_input": "2020-09-01T14:08:53.753607Z",
          "iopub.status.busy": "2020-09-01T14:08:53.752881Z",
          "iopub.status.idle": "2020-09-01T14:08:53.769460Z",
          "shell.execute_reply": "2020-09-01T14:08:53.768835Z"
        },
        "papermill": {
          "duration": 0.053032,
          "end_time": "2020-09-01T14:08:53.769580",
          "exception": false,
          "start_time": "2020-09-01T14:08:53.716548",
          "status": "completed"
        },
        "tags": [],
        "id": "l3FAa0Ae_Q0Z"
      },
      "source": [
        "train_female = data[0:891].loc[(data.Sex=='female')  & (data.WCSurvived.isnull())]\n",
        "test_female = data[891:1309].loc[(data.Sex=='female') & (data.WCSurvived.isnull())]"
      ],
      "execution_count": null,
      "outputs": []
    },
    {
      "cell_type": "markdown",
      "metadata": {
        "papermill": {
          "duration": 0.033063,
          "end_time": "2020-09-01T14:08:53.835914",
          "exception": false,
          "start_time": "2020-09-01T14:08:53.802851",
          "status": "completed"
        },
        "tags": [],
        "id": "AlguVPYA_Q0f"
      },
      "source": [
        "`Age`を使うか使わないか。 "
      ]
    },
    {
      "cell_type": "code",
      "metadata": {
        "_kg_hide-input": true,
        "execution": {
          "iopub.execute_input": "2020-09-01T14:08:53.920689Z",
          "iopub.status.busy": "2020-09-01T14:08:53.919642Z",
          "iopub.status.idle": "2020-09-01T14:08:55.047661Z",
          "shell.execute_reply": "2020-09-01T14:08:55.046999Z"
        },
        "papermill": {
          "duration": 1.178876,
          "end_time": "2020-09-01T14:08:55.047773",
          "exception": false,
          "start_time": "2020-09-01T14:08:53.868897",
          "status": "completed"
        },
        "tags": [],
        "id": "g7ad6FcS_Q0g",
        "outputId": "c50efbf7-d7e0-497d-9e19-11d68d5a5542",
        "colab": {
          "base_uri": "https://localhost:8080/",
          "height": 925
        }
      },
      "source": [
        "fig, ax = plt.subplots(2,2,figsize=(12,12))\n",
        "fig.suptitle('Non-WCG females EDA', fontsize=14)\n",
        "sns.barplot(x='Pclass', y='Survived', data=train_female, ax=ax[0][0])\n",
        "ax[0][0].axhline(y=train_female.Survived.mean(), color='r')\n",
        "sns.barplot(x='Embarked', y='Survived', data=train_female, ax=ax[0][1])\n",
        "ax[0][1].axhline(y=train_female.Survived.mean(), color='r')\n",
        "sns.swarmplot(x='Pclass', y='Pfare', hue='Survived', data=train_female, ax=ax[1][0])\n",
        "ax[1][0].set_ylim(top=70)\n",
        "# ax[1][0].axhline(y=7, color='y')\n",
        "# ax[1][0].axhline(y=10, color='y')\n",
        "a = sns.swarmplot(y='Age', x='Pclass', hue='Survived', data=train_female, ax=ax[1][1])"
      ],
      "execution_count": null,
      "outputs": [
        {
          "output_type": "stream",
          "text": [
            "/usr/local/lib/python3.6/dist-packages/seaborn/categorical.py:1296: UserWarning: 8.3% of the points cannot be placed; you may want to decrease the size of the markers or use stripplot.\n",
            "  warnings.warn(msg, UserWarning)\n",
            "/usr/local/lib/python3.6/dist-packages/seaborn/categorical.py:1296: UserWarning: 38.8% of the points cannot be placed; you may want to decrease the size of the markers or use stripplot.\n",
            "  warnings.warn(msg, UserWarning)\n",
            "/usr/local/lib/python3.6/dist-packages/seaborn/categorical.py:1296: UserWarning: 68.8% of the points cannot be placed; you may want to decrease the size of the markers or use stripplot.\n",
            "  warnings.warn(msg, UserWarning)\n"
          ],
          "name": "stderr"
        },
        {
          "output_type": "display_data",
          "data": {
            "image/png": "[encoded data removed]",
            "text/plain": [
              "<Figure size 864x864 with 4 Axes>"
            ]
          },
          "metadata": {
            "tags": []
          }
        }
      ]
    },
    {
      "cell_type": "code",
      "metadata": {
        "_kg_hide-input": true,
        "execution": {
          "iopub.execute_input": "2020-09-01T14:08:55.207521Z",
          "iopub.status.busy": "2020-09-01T14:08:55.204116Z",
          "iopub.status.idle": "2020-09-01T14:08:55.919316Z",
          "shell.execute_reply": "2020-09-01T14:08:55.918777Z"
        },
        "papermill": {
          "duration": 0.768893,
          "end_time": "2020-09-01T14:08:55.919430",
          "exception": false,
          "start_time": "2020-09-01T14:08:55.150537",
          "status": "completed"
        },
        "tags": [],
        "id": "WzLVyLpc_Q0k",
        "outputId": "88e7e481-d1e7-472a-e9e2-67bf28b7391b",
        "colab": {
          "base_uri": "https://localhost:8080/",
          "height": 590
        }
      },
      "source": [
        "w1 = train_female.loc[train_female['Survived']==1, 'Pfare']\n",
        "w0 = train_female.loc[train_female['Survived']==0, 'Pfare']\n",
        "z1 = train_female.loc[train_female['Survived']==1, 'Age']\n",
        "z0 = train_female.loc[train_female['Survived']==0, 'Age']\n",
        "\n",
        "fig, ax = plt.subplots(1,2,figsize=(12,6))\n",
        "fig.suptitle('Age and Pfare distributions with hue Survived', fontsize=14)\n",
        "sns.distplot(w1, bins=35, label = 'Survived', ax = ax[0], color = 'c')\n",
        "sns.distplot(w0, bins=15, label = 'Not survived', ax = ax[0], color = 'y')\n",
        "ax[0].set_xlim(-5, 60)\n",
        "ax[0].legend()\n",
        "sns.distplot(z1, bins=12, label = 'Survived', ax = ax[1], color = 'g')\n",
        "sns.distplot(z0, bins=10, label = 'Not survived', ax = ax[1], color = 'r')\n",
        "ax[1].legend()\n",
        "fig.show()"
      ],
      "execution_count": null,
      "outputs": [
        {
          "output_type": "stream",
          "text": [
            "/usr/local/lib/python3.6/dist-packages/seaborn/distributions.py:2551: FutureWarning: `distplot` is a deprecated function and will be removed in a future version. Please adapt your code to use either `displot` (a figure-level function with similar flexibility) or `histplot` (an axes-level function for histograms).\n",
            "  warnings.warn(msg, FutureWarning)\n",
            "/usr/local/lib/python3.6/dist-packages/seaborn/distributions.py:2551: FutureWarning: `distplot` is a deprecated function and will be removed in a future version. Please adapt your code to use either `displot` (a figure-level function with similar flexibility) or `histplot` (an axes-level function for histograms).\n",
            "  warnings.warn(msg, FutureWarning)\n",
            "/usr/local/lib/python3.6/dist-packages/seaborn/distributions.py:2551: FutureWarning: `distplot` is a deprecated function and will be removed in a future version. Please adapt your code to use either `displot` (a figure-level function with similar flexibility) or `histplot` (an axes-level function for histograms).\n",
            "  warnings.warn(msg, FutureWarning)\n",
            "/usr/local/lib/python3.6/dist-packages/seaborn/distributions.py:2551: FutureWarning: `distplot` is a deprecated function and will be removed in a future version. Please adapt your code to use either `displot` (a figure-level function with similar flexibility) or `histplot` (an axes-level function for histograms).\n",
            "  warnings.warn(msg, FutureWarning)\n"
          ],
          "name": "stderr"
        },
        {
          "output_type": "display_data",
          "data": {
            "image/png": "[encoded data removed]",
            "text/plain": [
              "<Figure size 864x432 with 2 Axes>"
            ]
          },
          "metadata": {
            "tags": []
          }
        }
      ]
    },
    {
      "cell_type": "markdown",
      "metadata": {
        "id": "WLTBdUXmmoAz"
      },
      "source": [
        "死んだ人と生き残った人との間の差が`Age` にはあまりなく、`Pfare`はそこそこあるので、 `Age`は使わないようにだけする。"
      ]
    },
    {
      "cell_type": "markdown",
      "metadata": {
        "papermill": {
          "duration": 0.033709,
          "end_time": "2020-09-01T14:08:55.987857",
          "exception": false,
          "start_time": "2020-09-01T14:08:55.954148",
          "status": "completed"
        },
        "tags": [],
        "id": "k4mY8KFM_Q0m"
      },
      "source": [
        "\n",
        "## 非WCGの女性の予測"
      ]
    },
    {
      "cell_type": "code",
      "metadata": {
        "execution": {
          "iopub.execute_input": "2020-09-01T14:08:56.062179Z",
          "iopub.status.busy": "2020-09-01T14:08:56.061356Z",
          "iopub.status.idle": "2020-09-01T14:08:56.064890Z",
          "shell.execute_reply": "2020-09-01T14:08:56.064361Z"
        },
        "papermill": {
          "duration": 0.043264,
          "end_time": "2020-09-01T14:08:56.065013",
          "exception": false,
          "start_time": "2020-09-01T14:08:56.021749",
          "status": "completed"
        },
        "tags": [],
        "id": "utmnDIQw_Q0n"
      },
      "source": [
        "from sklearn.metrics import make_scorer, precision_score, recall_score\n",
        "# We set zero_division=0 to avoid raising errors\n",
        "custom_precision = make_scorer(precision_score, pos_label=0, zero_division=0)\n",
        "custom_recall = make_scorer(recall_score, pos_label=0)"
      ],
      "execution_count": null,
      "outputs": []
    },
    {
      "cell_type": "code",
      "metadata": {
        "execution": {
          "iopub.execute_input": "2020-09-01T14:08:56.388803Z",
          "iopub.status.busy": "2020-09-01T14:08:56.387996Z",
          "iopub.status.idle": "2020-09-01T14:09:01.061809Z",
          "shell.execute_reply": "2020-09-01T14:09:01.062301Z"
        },
        "papermill": {
          "duration": 4.893805,
          "end_time": "2020-09-01T14:09:01.062455",
          "exception": false,
          "start_time": "2020-09-01T14:08:56.168650",
          "status": "completed"
        },
        "tags": [],
        "id": "J61HoJcQ_Q0q",
        "outputId": "6c09e04f-7a7d-4349-cd09-9bda09883ae4",
        "colab": {
          "base_uri": "https://localhost:8080/",
          "height": 351
        }
      },
      "source": [
        "y_f = train_female['Survived']\n",
        "X_f = train_female[features]\n",
        "precision_f = []\n",
        "recall_f = []\n",
        "# Preprocessing is always the same...\n",
        "for k in range(1,30):\n",
        "# for k in range(1,18):\n",
        "    pipeline2 = Pipeline(steps=[\n",
        "        ('preprocessor', preprocessor),\n",
        "        ('model', KNeighborsClassifier(n_neighbors=k))\n",
        "    ])\n",
        "    # We use 9-fold because the train size is smaller\n",
        "    # and 198/9 = integer\n",
        "    precision_f.append(cross_val_score(pipeline2, X_f, y_f, cv=9, n_jobs=-1, scoring=custom_precision).mean())\n",
        "    recall_f.append(cross_val_score(pipeline2, X_f, y_f, cv=9, n_jobs=-1, scoring=custom_recall).mean())\n",
        "    \n",
        "plt.figure(figsize=(7,5))\n",
        "plt.plot(k_range, precision_f, label='9-fold precision')\n",
        "plt.plot(k_range, recall_f, label='9-fold recall')\n",
        "plt.axhline(y=0.5, color='r')\n",
        "plt.xlabel('Value of k for KNN')\n",
        "plt.title('Precision and recall by number of neighbors', fontsize=14)\n",
        "plt.legend()\n",
        "plt.show()"
      ],
      "execution_count": null,
      "outputs": [
        {
          "output_type": "display_data",
          "data": {
            "image/png": "[encoded data removed]",
            "text/plain": [
              "<Figure size 504x360 with 1 Axes>"
            ]
          },
          "metadata": {
            "tags": []
          }
        }
      ]
    },
    {
      "cell_type": "markdown",
      "metadata": {
        "papermill": {
          "duration": 0.034465,
          "end_time": "2020-09-01T14:09:01.131854",
          "exception": false,
          "start_time": "2020-09-01T14:09:01.097389",
          "status": "completed"
        },
        "tags": [],
        "id": "_WToouCe_Q0s"
      },
      "source": [
        "recallとprecisionよりk値が4, 9, 11にする。"
      ]
    },
    {
      "cell_type": "code",
      "metadata": {
        "execution": {
          "iopub.execute_input": "2020-09-01T14:09:01.215693Z",
          "iopub.status.busy": "2020-09-01T14:09:01.214989Z",
          "iopub.status.idle": "2020-09-01T14:09:02.143937Z",
          "shell.execute_reply": "2020-09-01T14:09:02.143302Z"
        },
        "papermill": {
          "duration": 0.976827,
          "end_time": "2020-09-01T14:09:02.144048",
          "exception": false,
          "start_time": "2020-09-01T14:09:01.167221",
          "status": "completed"
        },
        "tags": [],
        "id": "EVali06z_Q0s",
        "outputId": "d7ebb43f-3fc6-43c1-c85d-7df1323227fe",
        "colab": {
          "base_uri": "https://localhost:8080/",
          "height": 285
        }
      },
      "source": [
        "f1 = KNeighborsClassifier(n_neighbors=4)\n",
        "f2 = KNeighborsClassifier(n_neighbors=9)\n",
        "f3 = KNeighborsClassifier(n_neighbors=11)\n",
        "# Preprocessing pipelines are the same as before\n",
        "female_pipeline = Pipeline(steps=[\n",
        "    ('preprocessor', preprocessor),\n",
        "    ('voting', VotingClassifier([\n",
        "        ('f1', f1), ('f2', f2), ('f3', f3)]))\n",
        "])\n",
        "print('9-fold precision of the ensemble: {:.3f}'.format(\n",
        "    cross_val_score(female_pipeline, X_f, y_f, cv=9, scoring=custom_precision).mean()))\n",
        "print('9-fold recall of the ensemble: {:.3f}'.format(\n",
        "    cross_val_score(female_pipeline, X_f, y_f, cv=9, scoring=custom_recall).mean()))\n",
        "print('9-fold accuracy of the ensemble: {:.3f}'.format(\n",
        "    cross_val_score(female_pipeline, X_f, y_f, cv=9).mean()))\n",
        "# Preprocessing of training data, fit model\n",
        "female_pipeline.fit(X_f, y_f)\n",
        "learn_train_f = female_pipeline.predict(X_f)\n",
        "X_test_f = test_female[features]\n",
        "predictions_f = female_pipeline.predict(X_test_f)\n",
        "test_female.loc[(predictions_f==0), cols]"
      ],
      "execution_count": null,
      "outputs": [
        {
          "output_type": "stream",
          "text": [
            "9-fold precision of the ensemble: 0.571\n",
            "9-fold recall of the ensemble: 0.278\n",
            "9-fold accuracy of the ensemble: 0.813\n"
          ],
          "name": "stdout"
        },
        {
          "output_type": "execute_result",
          "data": {
            "text/html": [
              "<div>\n",
              "<style scoped>\n",
              "    .dataframe tbody tr th:only-of-type {\n",
              "        vertical-align: middle;\n",
              "    }\n",
              "\n",
              "    .dataframe tbody tr th {\n",
              "        vertical-align: top;\n",
              "    }\n",
              "\n",
              "    .dataframe thead th {\n",
              "        text-align: right;\n",
              "    }\n",
              "</style>\n",
              "<table border=\"1\" class=\"dataframe\">\n",
              "  <thead>\n",
              "    <tr style=\"text-align: right;\">\n",
              "      <th></th>\n",
              "      <th>PassengerId</th>\n",
              "      <th>Name</th>\n",
              "      <th>Pfare</th>\n",
              "      <th>Pclass</th>\n",
              "      <th>Embarked</th>\n",
              "    </tr>\n",
              "  </thead>\n",
              "  <tbody>\n",
              "    <tr>\n",
              "      <th>1060</th>\n",
              "      <td>1061</td>\n",
              "      <td>Hellstrom, Miss. Hilda Maria</td>\n",
              "      <td>8.9625</td>\n",
              "      <td>3</td>\n",
              "      <td>S</td>\n",
              "    </tr>\n",
              "    <tr>\n",
              "      <th>1088</th>\n",
              "      <td>1089</td>\n",
              "      <td>Nilsson, Miss. Berta Olivia</td>\n",
              "      <td>7.7750</td>\n",
              "      <td>3</td>\n",
              "      <td>S</td>\n",
              "    </tr>\n",
              "    <tr>\n",
              "      <th>1105</th>\n",
              "      <td>1106</td>\n",
              "      <td>Andersson, Miss. Ida Augusta Margareta</td>\n",
              "      <td>7.7750</td>\n",
              "      <td>3</td>\n",
              "      <td>S</td>\n",
              "    </tr>\n",
              "    <tr>\n",
              "      <th>1250</th>\n",
              "      <td>1251</td>\n",
              "      <td>Lindell, Mrs. Edvard Bengtsson (Elin Gerda Per...</td>\n",
              "      <td>7.7750</td>\n",
              "      <td>3</td>\n",
              "      <td>S</td>\n",
              "    </tr>\n",
              "    <tr>\n",
              "      <th>1267</th>\n",
              "      <td>1268</td>\n",
              "      <td>Kink, Miss. Maria</td>\n",
              "      <td>8.6625</td>\n",
              "      <td>3</td>\n",
              "      <td>S</td>\n",
              "    </tr>\n",
              "    <tr>\n",
              "      <th>1303</th>\n",
              "      <td>1304</td>\n",
              "      <td>Henriksson, Miss. Jenny Lovisa</td>\n",
              "      <td>7.7750</td>\n",
              "      <td>3</td>\n",
              "      <td>S</td>\n",
              "    </tr>\n",
              "  </tbody>\n",
              "</table>\n",
              "</div>"
            ],
            "text/plain": [
              "      PassengerId  ... Embarked\n",
              "1060         1061  ...        S\n",
              "1088         1089  ...        S\n",
              "1105         1106  ...        S\n",
              "1250         1251  ...        S\n",
              "1267         1268  ...        S\n",
              "1303         1304  ...        S\n",
              "\n",
              "[6 rows x 5 columns]"
            ]
          },
          "metadata": {
            "tags": []
          },
          "execution_count": 54
        }
      ]
    },
    {
      "cell_type": "code",
      "metadata": {
        "_kg_hide-input": true,
        "execution": {
          "iopub.execute_input": "2020-09-01T14:09:02.302869Z",
          "iopub.status.busy": "2020-09-01T14:09:02.297813Z",
          "iopub.status.idle": "2020-09-01T14:09:03.197082Z",
          "shell.execute_reply": "2020-09-01T14:09:03.197619Z"
        },
        "papermill": {
          "duration": 0.946541,
          "end_time": "2020-09-01T14:09:03.197770",
          "exception": false,
          "start_time": "2020-09-01T14:09:02.251229",
          "status": "completed"
        },
        "tags": [],
        "id": "QcaOVAdD_Q0u",
        "outputId": "238e8303-c462-47b5-823b-69c39cf32f40",
        "colab": {
          "base_uri": "https://localhost:8080/",
          "height": 747
        }
      },
      "source": [
        "fig, ax = plt.subplots(1,3,figsize=(15,8))\n",
        "fig.suptitle('Fun comparison of train set vs test set', fontsize=14)\n",
        "ax[0].set_title('Real train set')\n",
        "ax[0].set_ylim(top=55)\n",
        "sns.swarmplot(x=X_f.Pclass, y=X_f.Pfare, hue=y_f, ax=ax[0])\n",
        "ax[1].set_title('Ensemble learns the train set')\n",
        "ax[1].set_ylim(top=55)\n",
        "sns.swarmplot(x=X_f.Pclass, y=X_f.Pfare, hue=learn_train_f,  ax=ax[1])\n",
        "ax[2].set_title('Ensemble predicts the test set')\n",
        "ax[2].set_ylim(top=55)\n",
        "a = sns.swarmplot(x=test_female.Pclass, y=test_female.Pfare, hue=predictions_f,  ax=ax[2])"
      ],
      "execution_count": null,
      "outputs": [
        {
          "output_type": "stream",
          "text": [
            "/usr/local/lib/python3.6/dist-packages/seaborn/categorical.py:1296: UserWarning: 30.6% of the points cannot be placed; you may want to decrease the size of the markers or use stripplot.\n",
            "  warnings.warn(msg, UserWarning)\n",
            "/usr/local/lib/python3.6/dist-packages/seaborn/categorical.py:1296: UserWarning: 50.6% of the points cannot be placed; you may want to decrease the size of the markers or use stripplot.\n",
            "  warnings.warn(msg, UserWarning)\n",
            "/usr/local/lib/python3.6/dist-packages/seaborn/categorical.py:1296: UserWarning: 30.6% of the points cannot be placed; you may want to decrease the size of the markers or use stripplot.\n",
            "  warnings.warn(msg, UserWarning)\n",
            "/usr/local/lib/python3.6/dist-packages/seaborn/categorical.py:1296: UserWarning: 50.6% of the points cannot be placed; you may want to decrease the size of the markers or use stripplot.\n",
            "  warnings.warn(msg, UserWarning)\n",
            "/usr/local/lib/python3.6/dist-packages/seaborn/categorical.py:1296: UserWarning: 52.2% of the points cannot be placed; you may want to decrease the size of the markers or use stripplot.\n",
            "  warnings.warn(msg, UserWarning)\n"
          ],
          "name": "stderr"
        },
        {
          "output_type": "display_data",
          "data": {
            "image/png": "[encoded data removed]",
            "text/plain": [
              "<Figure size 1080x576 with 3 Axes>"
            ]
          },
          "metadata": {
            "tags": []
          }
        }
      ]
    },
    {
      "cell_type": "markdown",
      "metadata": {
        "papermill": {
          "duration": 0.035156,
          "end_time": "2020-09-01T14:09:03.268854",
          "exception": false,
          "start_time": "2020-09-01T14:09:03.233698",
          "status": "completed"
        },
        "tags": [],
        "id": "SeENfbZl_Q0z"
      },
      "source": [
        "## 最終提出物"
      ]
    },
    {
      "cell_type": "code",
      "metadata": {
        "_kg_hide-input": true,
        "execution": {
          "iopub.execute_input": "2020-09-01T14:09:03.355614Z",
          "iopub.status.busy": "2020-09-01T14:09:03.353913Z",
          "iopub.status.idle": "2020-09-01T14:09:03.361414Z",
          "shell.execute_reply": "2020-09-01T14:09:03.362196Z"
        },
        "papermill": {
          "duration": 0.057598,
          "end_time": "2020-09-01T14:09:03.362402",
          "exception": false,
          "start_time": "2020-09-01T14:09:03.304804",
          "status": "completed"
        },
        "tags": [],
        "id": "257Juwe1_Q00"
      },
      "source": [
        "data.loc[891:1308, 'Predict'][(data.Sex=='female') & (data.WCSurvived.isnull())] = predictions_f\n",
        "output = pd.DataFrame({'PassengerId': data[891:1309].PassengerId, 'Survived': data[891:1309].Predict.astype('int')})\n",
        "output.to_csv('WCG_male_female.csv', index=False)"
      ],
      "execution_count": null,
      "outputs": []
    },
    {
      "cell_type": "markdown",
      "metadata": {
        "id": "y0TYd2cRoNg8"
      },
      "source": [
        "今回のコンペようにSurvivedをPerishedへ変換"
      ]
    },
    {
      "cell_type": "code",
      "metadata": {
        "id": "fSVf50taHQ93",
        "outputId": "47ab987f-38a3-46e7-b82f-df968f322b07",
        "colab": {
          "base_uri": "https://localhost:8080/",
          "height": 202
        }
      },
      "source": [
        "output.loc[output['Survived'] == 1, 'Perished'] = int(0)\n",
        "output.loc[output['Survived'] == 0, 'Perished'] = int(1)\n",
        "output =  output.drop('Survived',axis=1)\n",
        "output.head()"
      ],
      "execution_count": null,
      "outputs": [
        {
          "output_type": "execute_result",
          "data": {
            "text/html": [
              "<div>\n",
              "<style scoped>\n",
              "    .dataframe tbody tr th:only-of-type {\n",
              "        vertical-align: middle;\n",
              "    }\n",
              "\n",
              "    .dataframe tbody tr th {\n",
              "        vertical-align: top;\n",
              "    }\n",
              "\n",
              "    .dataframe thead th {\n",
              "        text-align: right;\n",
              "    }\n",
              "</style>\n",
              "<table border=\"1\" class=\"dataframe\">\n",
              "  <thead>\n",
              "    <tr style=\"text-align: right;\">\n",
              "      <th></th>\n",
              "      <th>PassengerId</th>\n",
              "      <th>Perished</th>\n",
              "    </tr>\n",
              "  </thead>\n",
              "  <tbody>\n",
              "    <tr>\n",
              "      <th>891</th>\n",
              "      <td>892</td>\n",
              "      <td>1.0</td>\n",
              "    </tr>\n",
              "    <tr>\n",
              "      <th>892</th>\n",
              "      <td>893</td>\n",
              "      <td>0.0</td>\n",
              "    </tr>\n",
              "    <tr>\n",
              "      <th>893</th>\n",
              "      <td>894</td>\n",
              "      <td>1.0</td>\n",
              "    </tr>\n",
              "    <tr>\n",
              "      <th>894</th>\n",
              "      <td>895</td>\n",
              "      <td>1.0</td>\n",
              "    </tr>\n",
              "    <tr>\n",
              "      <th>895</th>\n",
              "      <td>896</td>\n",
              "      <td>0.0</td>\n",
              "    </tr>\n",
              "  </tbody>\n",
              "</table>\n",
              "</div>"
            ],
            "text/plain": [
              "     PassengerId  Perished\n",
              "891          892       1.0\n",
              "892          893       0.0\n",
              "893          894       1.0\n",
              "894          895       1.0\n",
              "895          896       0.0"
            ]
          },
          "metadata": {
            "tags": []
          },
          "execution_count": 57
        }
      ]
    },
    {
      "cell_type": "code",
      "metadata": {
        "id": "yswhp3FXLEwe"
      },
      "source": [
        "submission['Perished'] = list(map(int,output['Perished'].values))"
      ],
      "execution_count": null,
      "outputs": []
    },
    {
      "cell_type": "code",
      "metadata": {
        "id": "QmJEyhlGLEOs",
        "outputId": "bba0f246-86cd-4452-d7eb-1c6da9f1ff2f",
        "colab": {
          "base_uri": "https://localhost:8080/",
          "height": 202
        }
      },
      "source": [
        "submission.head()"
      ],
      "execution_count": null,
      "outputs": [
        {
          "output_type": "execute_result",
          "data": {
            "text/html": [
              "<div>\n",
              "<style scoped>\n",
              "    .dataframe tbody tr th:only-of-type {\n",
              "        vertical-align: middle;\n",
              "    }\n",
              "\n",
              "    .dataframe tbody tr th {\n",
              "        vertical-align: top;\n",
              "    }\n",
              "\n",
              "    .dataframe thead th {\n",
              "        text-align: right;\n",
              "    }\n",
              "</style>\n",
              "<table border=\"1\" class=\"dataframe\">\n",
              "  <thead>\n",
              "    <tr style=\"text-align: right;\">\n",
              "      <th></th>\n",
              "      <th>PassengerId</th>\n",
              "      <th>Perished</th>\n",
              "    </tr>\n",
              "  </thead>\n",
              "  <tbody>\n",
              "    <tr>\n",
              "      <th>0</th>\n",
              "      <td>892</td>\n",
              "      <td>1</td>\n",
              "    </tr>\n",
              "    <tr>\n",
              "      <th>1</th>\n",
              "      <td>893</td>\n",
              "      <td>0</td>\n",
              "    </tr>\n",
              "    <tr>\n",
              "      <th>2</th>\n",
              "      <td>894</td>\n",
              "      <td>1</td>\n",
              "    </tr>\n",
              "    <tr>\n",
              "      <th>3</th>\n",
              "      <td>895</td>\n",
              "      <td>1</td>\n",
              "    </tr>\n",
              "    <tr>\n",
              "      <th>4</th>\n",
              "      <td>896</td>\n",
              "      <td>0</td>\n",
              "    </tr>\n",
              "  </tbody>\n",
              "</table>\n",
              "</div>"
            ],
            "text/plain": [
              "   PassengerId  Perished\n",
              "0          892         1\n",
              "1          893         0\n",
              "2          894         1\n",
              "3          895         1\n",
              "4          896         0"
            ]
          },
          "metadata": {
            "tags": []
          },
          "execution_count": 59
        }
      ]
    },
    {
      "cell_type": "code",
      "metadata": {
        "id": "Opd8N1biHxPs",
        "outputId": "e3f11901-22f0-4473-a4e5-c60934ea9fdd",
        "colab": {
          "base_uri": "https://localhost:8080/",
          "height": 17
        }
      },
      "source": [
        "submission.to_csv('submission.csv',index=False)\n",
        "from google.colab import files\n",
        "files.download('submission.csv')"
      ],
      "execution_count": null,
      "outputs": [
        {
          "output_type": "display_data",
          "data": {
            "application/javascript": [
              "\n",
              "    async function download(id, filename, size) {\n",
              "      if (!google.colab.kernel.accessAllowed) {\n",
              "        return;\n",
              "      }\n",
              "      const div = document.createElement('div');\n",
              "      const label = document.createElement('label');\n",
              "      label.textContent = `Downloading \"${filename}\": `;\n",
              "      div.appendChild(label);\n",
              "      const progress = document.createElement('progress');\n",
              "      progress.max = size;\n",
              "      div.appendChild(progress);\n",
              "      document.body.appendChild(div);\n",
              "\n",
              "      const buffers = [];\n",
              "      let downloaded = 0;\n",
              "\n",
              "      const channel = await google.colab.kernel.comms.open(id);\n",
              "      // Send a message to notify the kernel that we're ready.\n",
              "      channel.send({})\n",
              "\n",
              "      for await (const message of channel.messages) {\n",
              "        // Send a message to notify the kernel that we're ready.\n",
              "        channel.send({})\n",
              "        if (message.buffers) {\n",
              "          for (const buffer of message.buffers) {\n",
              "            buffers.push(buffer);\n",
              "            downloaded += buffer.byteLength;\n",
              "            progress.value = downloaded;\n",
              "          }\n",
              "        }\n",
              "      }\n",
              "      const blob = new Blob(buffers, {type: 'application/binary'});\n",
              "      const a = document.createElement('a');\n",
              "      a.href = window.URL.createObjectURL(blob);\n",
              "      a.download = filename;\n",
              "      div.appendChild(a);\n",
              "      a.click();\n",
              "      div.remove();\n",
              "    }\n",
              "  "
            ],
            "text/plain": [
              "<IPython.core.display.Javascript object>"
            ]
          },
          "metadata": {
            "tags": []
          }
        },
        {
          "output_type": "display_data",
          "data": {
            "application/javascript": [
              "download(\"download_7fe6d3f1-fbd1-4d31-bc72-b0a1cdd71a28\", \"submission.csv\", 2839)"
            ],
            "text/plain": [
              "<IPython.core.display.Javascript object>"
            ]
          },
          "metadata": {
            "tags": []
          }
        }
      ]
    },
    {
      "cell_type": "markdown",
      "metadata": {
        "id": "Dq-T8XUXUyWl"
      },
      "source": [
        "#まとめ\n",
        "\n",
        "\n",
        "まず、乗客（train＋test）を4つのグループに分ける。\n",
        "1. 成人男性・・・人口の60％（A\n",
        "1. 若い男の子（マスターの称号を持つ）・・・人口の5％（B\n",
        "1. 子供、姉妹、母親がいる女性（兄弟、夫は任意）・・・人口の13％（C\n",
        "1. 兄弟や夫がいる女性（子供がいない、姉妹がいない、母親がいない）、または一人旅をしている女性-人口の22％（D\n",
        "\n",
        "次に、3つの分類器を構築\n",
        "1. (B) + (C)を分類するための**ジェンダーモデル**の上に**WCG**を追加した。\n",
        "1. 分類するためのKNN, ~~xgb, lr~~の**nsemble_1**(A)\n",
        "1. 分類するKNNの**Ensemble_2**(D)"
      ]
    }
  ]
}